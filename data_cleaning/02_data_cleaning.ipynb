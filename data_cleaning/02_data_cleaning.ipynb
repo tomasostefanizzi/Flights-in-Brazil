{
 "cells": [
  {
   "cell_type": "markdown",
   "metadata": {},
   "source": [
    "# Data Inspection\n",
    "Author(s): Tomaso Stefanizzi\n",
    "\n",
    "Description:\n",
    "In this notebook I'm cleaning the data + merging two tables"
   ]
  },
  {
   "cell_type": "markdown",
   "metadata": {},
   "source": [
    "## Imports"
   ]
  },
  {
   "cell_type": "code",
   "execution_count": 1,
   "metadata": {},
   "outputs": [],
   "source": [
    "#import libraries\n",
    "import pandas as pd\n",
    "import numpy as np\n",
    "import matplotlib.pyplot as plt\n",
    "import seaborn as sns\n",
    "import os as os"
   ]
  },
  {
   "cell_type": "markdown",
   "metadata": {},
   "source": [
    "### read data"
   ]
  },
  {
   "cell_type": "code",
   "execution_count": 2,
   "metadata": {},
   "outputs": [],
   "source": [
    "dest_path = 'dataset/modified_data/DW_ARPT_DEST.csv'\n",
    "orig_path = 'dataset/modified_data/DW_ARPT_ORIGEM.csv'\n",
    "company_path = 'dataset/modified_data/DW_EMPRESA.csv'\n",
    "equip_path = 'dataset/modified_data/DW_EQPT.csv'\n",
    "line_path = 'dataset/modified_data/DW_TIPO_LINHA.csv'\n",
    "#voos_path = 'dataset/DW_VOO.csv'\n",
    "\n",
    "#read the data\n",
    "dest = pd.read_csv(dest_path)\n",
    "orig = pd.read_csv(orig_path)\n",
    "company = pd.read_csv(company_path)\n",
    "equip = pd.read_csv(equip_path)\n",
    "line = pd.read_csv(line_path)\n",
    "#voos = pd.read_csv(voos_path)"
   ]
  },
  {
   "cell_type": "markdown",
   "metadata": {},
   "source": [
    "### dest"
   ]
  },
  {
   "cell_type": "code",
   "execution_count": 3,
   "metadata": {},
   "outputs": [
    {
     "data": {
      "text/html": [
       "<div>\n",
       "<style scoped>\n",
       "    .dataframe tbody tr th:only-of-type {\n",
       "        vertical-align: middle;\n",
       "    }\n",
       "\n",
       "    .dataframe tbody tr th {\n",
       "        vertical-align: top;\n",
       "    }\n",
       "\n",
       "    .dataframe thead th {\n",
       "        text-align: right;\n",
       "    }\n",
       "</style>\n",
       "<table border=\"1\" class=\"dataframe\">\n",
       "  <thead>\n",
       "    <tr style=\"text-align: right;\">\n",
       "      <th></th>\n",
       "      <th>DT_CARGA_DW</th>\n",
       "      <th>id_aerodromo_destino</th>\n",
       "      <th>sg_icao_destino</th>\n",
       "      <th>sg_iata_destino</th>\n",
       "      <th>nm_aerodromo_destino</th>\n",
       "      <th>nm_municipio_destino</th>\n",
       "      <th>sg_uf_destino</th>\n",
       "      <th>nm_regiao_destino</th>\n",
       "      <th>nm_pais_destino</th>\n",
       "      <th>nm_continente_destino</th>\n",
       "      <th>nr_escala_destino</th>\n",
       "    </tr>\n",
       "  </thead>\n",
       "  <tbody>\n",
       "    <tr>\n",
       "      <th>0</th>\n",
       "      <td>2020-12-28T16:10:21</td>\n",
       "      <td>162</td>\n",
       "      <td>SBKP</td>\n",
       "      <td>VCP</td>\n",
       "      <td>VIRACOPOS</td>\n",
       "      <td>CAMPINAS</td>\n",
       "      <td>SP</td>\n",
       "      <td>SUDESTE</td>\n",
       "      <td>BRASIL</td>\n",
       "      <td>AMÉRICA DO SUL</td>\n",
       "      <td>NaN</td>\n",
       "    </tr>\n",
       "    <tr>\n",
       "      <th>1</th>\n",
       "      <td>2020-12-28T16:10:21</td>\n",
       "      <td>230</td>\n",
       "      <td>GOOY</td>\n",
       "      <td>DKR</td>\n",
       "      <td>DACAR</td>\n",
       "      <td>DACAR</td>\n",
       "      <td>NaN</td>\n",
       "      <td>NaN</td>\n",
       "      <td>SENEGAL</td>\n",
       "      <td>ÁFRICA</td>\n",
       "      <td>NaN</td>\n",
       "    </tr>\n",
       "    <tr>\n",
       "      <th>2</th>\n",
       "      <td>2020-12-28T16:10:21</td>\n",
       "      <td>275</td>\n",
       "      <td>EDDF</td>\n",
       "      <td>FRA</td>\n",
       "      <td>FRANKFURT INTERNATIONAL AIRPORT</td>\n",
       "      <td>FRANKFURT AM MAIN</td>\n",
       "      <td>NaN</td>\n",
       "      <td>NaN</td>\n",
       "      <td>ALEMANHA</td>\n",
       "      <td>EUROPA</td>\n",
       "      <td>NaN</td>\n",
       "    </tr>\n",
       "    <tr>\n",
       "      <th>3</th>\n",
       "      <td>2020-12-28T16:10:21</td>\n",
       "      <td>467</td>\n",
       "      <td>KMIA</td>\n",
       "      <td>MIA</td>\n",
       "      <td>MIAMI INTERNATIONAL AIRPORT</td>\n",
       "      <td>MIAMI, FLORIDA</td>\n",
       "      <td>NaN</td>\n",
       "      <td>NaN</td>\n",
       "      <td>ESTADOS UNIDOS DA AMÉRICA</td>\n",
       "      <td>AMÉRICA DO NORTE</td>\n",
       "      <td>NaN</td>\n",
       "    </tr>\n",
       "    <tr>\n",
       "      <th>4</th>\n",
       "      <td>2020-12-28T16:10:21</td>\n",
       "      <td>626</td>\n",
       "      <td>SBGL</td>\n",
       "      <td>GIG</td>\n",
       "      <td>AEROPORTO INTERNACIONAL DO RIO DE JANEIRO (GAL...</td>\n",
       "      <td>RIO DE JANEIRO</td>\n",
       "      <td>RJ</td>\n",
       "      <td>SUDESTE</td>\n",
       "      <td>BRASIL</td>\n",
       "      <td>AMÉRICA DO SUL</td>\n",
       "      <td>NaN</td>\n",
       "    </tr>\n",
       "  </tbody>\n",
       "</table>\n",
       "</div>"
      ],
      "text/plain": [
       "           DT_CARGA_DW  id_aerodromo_destino sg_icao_destino sg_iata_destino  \\\n",
       "0  2020-12-28T16:10:21                   162            SBKP             VCP   \n",
       "1  2020-12-28T16:10:21                   230            GOOY             DKR   \n",
       "2  2020-12-28T16:10:21                   275            EDDF             FRA   \n",
       "3  2020-12-28T16:10:21                   467            KMIA             MIA   \n",
       "4  2020-12-28T16:10:21                   626            SBGL             GIG   \n",
       "\n",
       "                                nm_aerodromo_destino nm_municipio_destino  \\\n",
       "0                                          VIRACOPOS             CAMPINAS   \n",
       "1                                              DACAR                DACAR   \n",
       "2                    FRANKFURT INTERNATIONAL AIRPORT    FRANKFURT AM MAIN   \n",
       "3                        MIAMI INTERNATIONAL AIRPORT       MIAMI, FLORIDA   \n",
       "4  AEROPORTO INTERNACIONAL DO RIO DE JANEIRO (GAL...       RIO DE JANEIRO   \n",
       "\n",
       "  sg_uf_destino nm_regiao_destino            nm_pais_destino  \\\n",
       "0            SP           SUDESTE                     BRASIL   \n",
       "1           NaN               NaN                    SENEGAL   \n",
       "2           NaN               NaN                   ALEMANHA   \n",
       "3           NaN               NaN  ESTADOS UNIDOS DA AMÉRICA   \n",
       "4            RJ           SUDESTE                     BRASIL   \n",
       "\n",
       "  nm_continente_destino  nr_escala_destino  \n",
       "0        AMÉRICA DO SUL                NaN  \n",
       "1                ÁFRICA                NaN  \n",
       "2                EUROPA                NaN  \n",
       "3      AMÉRICA DO NORTE                NaN  \n",
       "4        AMÉRICA DO SUL                NaN  "
      ]
     },
     "execution_count": 3,
     "metadata": {},
     "output_type": "execute_result"
    }
   ],
   "source": [
    "dest.head()"
   ]
  },
  {
   "cell_type": "code",
   "execution_count": 4,
   "metadata": {},
   "outputs": [],
   "source": [
    "# drop the columns that are not useful\n",
    "dest = dest.drop(['sg_uf_destino', 'nm_regiao_destino', 'nr_escala_destino'], axis=1)"
   ]
  },
  {
   "cell_type": "code",
   "execution_count": 5,
   "metadata": {},
   "outputs": [
    {
     "name": "stdout",
     "output_type": "stream",
     "text": [
      "<class 'pandas.core.frame.DataFrame'>\n",
      "RangeIndex: 1025 entries, 0 to 1024\n",
      "Data columns (total 8 columns):\n",
      " #   Column                 Non-Null Count  Dtype \n",
      "---  ------                 --------------  ----- \n",
      " 0   DT_CARGA_DW            1025 non-null   object\n",
      " 1   id_aerodromo_destino   1025 non-null   int64 \n",
      " 2   sg_icao_destino        1025 non-null   object\n",
      " 3   sg_iata_destino        755 non-null    object\n",
      " 4   nm_aerodromo_destino   1025 non-null   object\n",
      " 5   nm_municipio_destino   1025 non-null   object\n",
      " 6   nm_pais_destino        1025 non-null   object\n",
      " 7   nm_continente_destino  1025 non-null   object\n",
      "dtypes: int64(1), object(7)\n",
      "memory usage: 64.2+ KB\n"
     ]
    }
   ],
   "source": [
    "dest.info()"
   ]
  },
  {
   "cell_type": "code",
   "execution_count": 6,
   "metadata": {},
   "outputs": [
    {
     "name": "stdout",
     "output_type": "stream",
     "text": [
      "<class 'pandas.core.frame.DataFrame'>\n",
      "Index: 755 entries, 0 to 1024\n",
      "Data columns (total 8 columns):\n",
      " #   Column                 Non-Null Count  Dtype \n",
      "---  ------                 --------------  ----- \n",
      " 0   DT_CARGA_DW            755 non-null    object\n",
      " 1   id_aerodromo_destino   755 non-null    int64 \n",
      " 2   sg_icao_destino        755 non-null    object\n",
      " 3   sg_iata_destino        755 non-null    object\n",
      " 4   nm_aerodromo_destino   755 non-null    object\n",
      " 5   nm_municipio_destino   755 non-null    object\n",
      " 6   nm_pais_destino        755 non-null    object\n",
      " 7   nm_continente_destino  755 non-null    object\n",
      "dtypes: int64(1), object(7)\n",
      "memory usage: 53.1+ KB\n"
     ]
    }
   ],
   "source": [
    "# drop the null values in the dataset\n",
    "dest = dest.dropna()\n",
    "\n",
    "dest.info()"
   ]
  },
  {
   "cell_type": "code",
   "execution_count": 7,
   "metadata": {},
   "outputs": [],
   "source": [
    "dest.drop(['DT_CARGA_DW'], axis=1, inplace=True)"
   ]
  },
  {
   "cell_type": "markdown",
   "metadata": {},
   "source": [
    "### orig"
   ]
  },
  {
   "cell_type": "code",
   "execution_count": 8,
   "metadata": {},
   "outputs": [
    {
     "data": {
      "text/html": [
       "<div>\n",
       "<style scoped>\n",
       "    .dataframe tbody tr th:only-of-type {\n",
       "        vertical-align: middle;\n",
       "    }\n",
       "\n",
       "    .dataframe tbody tr th {\n",
       "        vertical-align: top;\n",
       "    }\n",
       "\n",
       "    .dataframe thead th {\n",
       "        text-align: right;\n",
       "    }\n",
       "</style>\n",
       "<table border=\"1\" class=\"dataframe\">\n",
       "  <thead>\n",
       "    <tr style=\"text-align: right;\">\n",
       "      <th></th>\n",
       "      <th>id_aerodromo_origem</th>\n",
       "      <th>DT_CARGA_DW</th>\n",
       "      <th>sg_icao_origem</th>\n",
       "      <th>sg_iata_origem</th>\n",
       "      <th>nm_aerodromo_origem</th>\n",
       "      <th>nm_municipio_origem</th>\n",
       "      <th>sg_uf_origem</th>\n",
       "      <th>nm_regiao_origem</th>\n",
       "      <th>nm_pais_origem</th>\n",
       "      <th>nm_continente_origem</th>\n",
       "    </tr>\n",
       "  </thead>\n",
       "  <tbody>\n",
       "    <tr>\n",
       "      <th>0</th>\n",
       "      <td>0</td>\n",
       "      <td>2020-12-28T16:10:21</td>\n",
       "      <td>N/I</td>\n",
       "      <td>N/I</td>\n",
       "      <td>NÃO IDENTIFICADO</td>\n",
       "      <td>NÃO IDENTIFICADO</td>\n",
       "      <td>NaN</td>\n",
       "      <td>NÃO IDENTIFICADO</td>\n",
       "      <td>NÃO IDENTIFICADO</td>\n",
       "      <td>NÃO IDENTIFICADO</td>\n",
       "    </tr>\n",
       "    <tr>\n",
       "      <th>1</th>\n",
       "      <td>1</td>\n",
       "      <td>2020-12-28T16:10:21</td>\n",
       "      <td>OMAA</td>\n",
       "      <td>AUH</td>\n",
       "      <td>AB DHABI INTERNATIONAL</td>\n",
       "      <td>AB DHABI INTERNATIONAL</td>\n",
       "      <td>NaN</td>\n",
       "      <td>NaN</td>\n",
       "      <td>EMIRADOS ÁRABES UNIDOS</td>\n",
       "      <td>ÁSIA</td>\n",
       "    </tr>\n",
       "    <tr>\n",
       "      <th>2</th>\n",
       "      <td>3</td>\n",
       "      <td>2020-12-28T16:10:21</td>\n",
       "      <td>DIAP</td>\n",
       "      <td>ABJ</td>\n",
       "      <td>PORT BOUET AIRPORT (FELIX HOUPHOUET BOIGNY INT...</td>\n",
       "      <td>ABIDJAN</td>\n",
       "      <td>NaN</td>\n",
       "      <td>NaN</td>\n",
       "      <td>COSTA DO MARFIM</td>\n",
       "      <td>ÁFRICA</td>\n",
       "    </tr>\n",
       "    <tr>\n",
       "      <th>3</th>\n",
       "      <td>4</td>\n",
       "      <td>2020-12-28T16:10:21</td>\n",
       "      <td>MMAA</td>\n",
       "      <td>ACA</td>\n",
       "      <td>GENERAL JUAN N. ÁLVAREZ INTERNATIONAL AIRPORT</td>\n",
       "      <td>ACAPULCO/GEN.JUAN ALVAREZ</td>\n",
       "      <td>NaN</td>\n",
       "      <td>NaN</td>\n",
       "      <td>MÉXICO</td>\n",
       "      <td>AMÉRICA DO NORTE</td>\n",
       "    </tr>\n",
       "    <tr>\n",
       "      <th>4</th>\n",
       "      <td>5</td>\n",
       "      <td>2020-12-28T16:10:21</td>\n",
       "      <td>DGAA</td>\n",
       "      <td>ACC</td>\n",
       "      <td>KOTOKA INTERNATIONAL AIRPORT</td>\n",
       "      <td>ACCRA</td>\n",
       "      <td>NaN</td>\n",
       "      <td>NaN</td>\n",
       "      <td>GANA</td>\n",
       "      <td>ÁFRICA</td>\n",
       "    </tr>\n",
       "  </tbody>\n",
       "</table>\n",
       "</div>"
      ],
      "text/plain": [
       "   id_aerodromo_origem          DT_CARGA_DW sg_icao_origem sg_iata_origem  \\\n",
       "0                    0  2020-12-28T16:10:21            N/I            N/I   \n",
       "1                    1  2020-12-28T16:10:21           OMAA            AUH   \n",
       "2                    3  2020-12-28T16:10:21           DIAP            ABJ   \n",
       "3                    4  2020-12-28T16:10:21           MMAA            ACA   \n",
       "4                    5  2020-12-28T16:10:21           DGAA            ACC   \n",
       "\n",
       "                                 nm_aerodromo_origem  \\\n",
       "0                                   NÃO IDENTIFICADO   \n",
       "1                             AB DHABI INTERNATIONAL   \n",
       "2  PORT BOUET AIRPORT (FELIX HOUPHOUET BOIGNY INT...   \n",
       "3      GENERAL JUAN N. ÁLVAREZ INTERNATIONAL AIRPORT   \n",
       "4                       KOTOKA INTERNATIONAL AIRPORT   \n",
       "\n",
       "         nm_municipio_origem sg_uf_origem  nm_regiao_origem  \\\n",
       "0           NÃO IDENTIFICADO          NaN  NÃO IDENTIFICADO   \n",
       "1     AB DHABI INTERNATIONAL          NaN               NaN   \n",
       "2                    ABIDJAN          NaN               NaN   \n",
       "3  ACAPULCO/GEN.JUAN ALVAREZ          NaN               NaN   \n",
       "4                      ACCRA          NaN               NaN   \n",
       "\n",
       "           nm_pais_origem nm_continente_origem  \n",
       "0        NÃO IDENTIFICADO     NÃO IDENTIFICADO  \n",
       "1  EMIRADOS ÁRABES UNIDOS                 ÁSIA  \n",
       "2         COSTA DO MARFIM               ÁFRICA  \n",
       "3                  MÉXICO     AMÉRICA DO NORTE  \n",
       "4                    GANA               ÁFRICA  "
      ]
     },
     "execution_count": 8,
     "metadata": {},
     "output_type": "execute_result"
    }
   ],
   "source": [
    "orig.head()"
   ]
  },
  {
   "cell_type": "code",
   "execution_count": 9,
   "metadata": {},
   "outputs": [],
   "source": [
    "#drop the columns that are not useful\n",
    "orig = orig.drop(['sg_uf_origem', 'nm_regiao_origem'], axis=1)"
   ]
  },
  {
   "cell_type": "code",
   "execution_count": 10,
   "metadata": {},
   "outputs": [
    {
     "name": "stdout",
     "output_type": "stream",
     "text": [
      "<class 'pandas.core.frame.DataFrame'>\n",
      "RangeIndex: 994 entries, 0 to 993\n",
      "Data columns (total 8 columns):\n",
      " #   Column                Non-Null Count  Dtype \n",
      "---  ------                --------------  ----- \n",
      " 0   id_aerodromo_origem   994 non-null    int64 \n",
      " 1   DT_CARGA_DW           994 non-null    object\n",
      " 2   sg_icao_origem        994 non-null    object\n",
      " 3   sg_iata_origem        732 non-null    object\n",
      " 4   nm_aerodromo_origem   994 non-null    object\n",
      " 5   nm_municipio_origem   994 non-null    object\n",
      " 6   nm_pais_origem        994 non-null    object\n",
      " 7   nm_continente_origem  994 non-null    object\n",
      "dtypes: int64(1), object(7)\n",
      "memory usage: 62.3+ KB\n"
     ]
    }
   ],
   "source": [
    "orig.info()"
   ]
  },
  {
   "cell_type": "code",
   "execution_count": 11,
   "metadata": {},
   "outputs": [
    {
     "name": "stdout",
     "output_type": "stream",
     "text": [
      "<class 'pandas.core.frame.DataFrame'>\n",
      "Index: 732 entries, 0 to 993\n",
      "Data columns (total 8 columns):\n",
      " #   Column                Non-Null Count  Dtype \n",
      "---  ------                --------------  ----- \n",
      " 0   id_aerodromo_origem   732 non-null    int64 \n",
      " 1   DT_CARGA_DW           732 non-null    object\n",
      " 2   sg_icao_origem        732 non-null    object\n",
      " 3   sg_iata_origem        732 non-null    object\n",
      " 4   nm_aerodromo_origem   732 non-null    object\n",
      " 5   nm_municipio_origem   732 non-null    object\n",
      " 6   nm_pais_origem        732 non-null    object\n",
      " 7   nm_continente_origem  732 non-null    object\n",
      "dtypes: int64(1), object(7)\n",
      "memory usage: 51.5+ KB\n"
     ]
    }
   ],
   "source": [
    "#drop the null values in the dataset\n",
    "orig = orig.dropna()\n",
    "\n",
    "orig.info()"
   ]
  },
  {
   "cell_type": "code",
   "execution_count": 12,
   "metadata": {},
   "outputs": [],
   "source": [
    "orig.drop(['DT_CARGA_DW'], axis=1, inplace=True)"
   ]
  },
  {
   "cell_type": "markdown",
   "metadata": {},
   "source": [
    "### company"
   ]
  },
  {
   "cell_type": "code",
   "execution_count": 13,
   "metadata": {},
   "outputs": [
    {
     "data": {
      "text/html": [
       "<div>\n",
       "<style scoped>\n",
       "    .dataframe tbody tr th:only-of-type {\n",
       "        vertical-align: middle;\n",
       "    }\n",
       "\n",
       "    .dataframe tbody tr th {\n",
       "        vertical-align: top;\n",
       "    }\n",
       "\n",
       "    .dataframe thead th {\n",
       "        text-align: right;\n",
       "    }\n",
       "</style>\n",
       "<table border=\"1\" class=\"dataframe\">\n",
       "  <thead>\n",
       "    <tr style=\"text-align: right;\">\n",
       "      <th></th>\n",
       "      <th>id_empresa</th>\n",
       "      <th>DT_CARGA_DW</th>\n",
       "      <th>sg_empresa_icao</th>\n",
       "      <th>sg_empresa_iata</th>\n",
       "      <th>nm_empresa</th>\n",
       "      <th>ds_tipo_empresa</th>\n",
       "    </tr>\n",
       "  </thead>\n",
       "  <tbody>\n",
       "    <tr>\n",
       "      <th>0</th>\n",
       "      <td>1000002</td>\n",
       "      <td>2020-12-28T16:10:21</td>\n",
       "      <td>AEA</td>\n",
       "      <td>UX</td>\n",
       "      <td>AIR EUROPA LINEAS AEREAS SOCIEDAD ANONIMA</td>\n",
       "      <td>ESTRANGEIRA REGULAR</td>\n",
       "    </tr>\n",
       "    <tr>\n",
       "      <th>1</th>\n",
       "      <td>1000004</td>\n",
       "      <td>2020-12-28T16:10:21</td>\n",
       "      <td>MWM</td>\n",
       "      <td>WD</td>\n",
       "      <td>MODERN TRANSPORTE AÉREO DE CARGA S.A.</td>\n",
       "      <td>TRANSPORTE AÉREO REGULAR</td>\n",
       "    </tr>\n",
       "    <tr>\n",
       "      <th>2</th>\n",
       "      <td>1000010</td>\n",
       "      <td>2020-12-28T16:10:21</td>\n",
       "      <td>STR</td>\n",
       "      <td>NaN</td>\n",
       "      <td>STERNA LINHAS AÉREAS LTDA.</td>\n",
       "      <td>TRANSPORTE AÉREO REGULAR</td>\n",
       "    </tr>\n",
       "    <tr>\n",
       "      <th>3</th>\n",
       "      <td>1000049</td>\n",
       "      <td>2020-12-28T16:10:21</td>\n",
       "      <td>VCV</td>\n",
       "      <td>V0</td>\n",
       "      <td>CONSORCIO VENEZOLANO DE INDUSTRIAS AERONAUTICA...</td>\n",
       "      <td>ESTRANGEIRA NÃO REGULAR</td>\n",
       "    </tr>\n",
       "    <tr>\n",
       "      <th>4</th>\n",
       "      <td>1000077</td>\n",
       "      <td>2020-12-28T16:10:21</td>\n",
       "      <td>LOT</td>\n",
       "      <td>LO</td>\n",
       "      <td>LOT POLISH AIRLINES</td>\n",
       "      <td>ESTRANGEIRA NÃO REGULAR</td>\n",
       "    </tr>\n",
       "  </tbody>\n",
       "</table>\n",
       "</div>"
      ],
      "text/plain": [
       "   id_empresa          DT_CARGA_DW sg_empresa_icao sg_empresa_iata  \\\n",
       "0     1000002  2020-12-28T16:10:21             AEA              UX   \n",
       "1     1000004  2020-12-28T16:10:21             MWM              WD   \n",
       "2     1000010  2020-12-28T16:10:21             STR             NaN   \n",
       "3     1000049  2020-12-28T16:10:21             VCV              V0   \n",
       "4     1000077  2020-12-28T16:10:21             LOT              LO   \n",
       "\n",
       "                                          nm_empresa           ds_tipo_empresa  \n",
       "0          AIR EUROPA LINEAS AEREAS SOCIEDAD ANONIMA       ESTRANGEIRA REGULAR  \n",
       "1              MODERN TRANSPORTE AÉREO DE CARGA S.A.  TRANSPORTE AÉREO REGULAR  \n",
       "2                         STERNA LINHAS AÉREAS LTDA.  TRANSPORTE AÉREO REGULAR  \n",
       "3  CONSORCIO VENEZOLANO DE INDUSTRIAS AERONAUTICA...   ESTRANGEIRA NÃO REGULAR  \n",
       "4                                LOT POLISH AIRLINES   ESTRANGEIRA NÃO REGULAR  "
      ]
     },
     "execution_count": 13,
     "metadata": {},
     "output_type": "execute_result"
    }
   ],
   "source": [
    "company.head()"
   ]
  },
  {
   "cell_type": "code",
   "execution_count": 14,
   "metadata": {},
   "outputs": [
    {
     "name": "stdout",
     "output_type": "stream",
     "text": [
      "<class 'pandas.core.frame.DataFrame'>\n",
      "RangeIndex: 265 entries, 0 to 264\n",
      "Data columns (total 6 columns):\n",
      " #   Column           Non-Null Count  Dtype \n",
      "---  ------           --------------  ----- \n",
      " 0   id_empresa       265 non-null    int64 \n",
      " 1   DT_CARGA_DW      265 non-null    object\n",
      " 2   sg_empresa_icao  265 non-null    object\n",
      " 3   sg_empresa_iata  194 non-null    object\n",
      " 4   nm_empresa       265 non-null    object\n",
      " 5   ds_tipo_empresa  265 non-null    object\n",
      "dtypes: int64(1), object(5)\n",
      "memory usage: 12.6+ KB\n"
     ]
    }
   ],
   "source": [
    "company.info()"
   ]
  },
  {
   "cell_type": "code",
   "execution_count": 15,
   "metadata": {},
   "outputs": [
    {
     "name": "stdout",
     "output_type": "stream",
     "text": [
      "<class 'pandas.core.frame.DataFrame'>\n",
      "Index: 194 entries, 0 to 264\n",
      "Data columns (total 6 columns):\n",
      " #   Column           Non-Null Count  Dtype \n",
      "---  ------           --------------  ----- \n",
      " 0   id_empresa       194 non-null    int64 \n",
      " 1   DT_CARGA_DW      194 non-null    object\n",
      " 2   sg_empresa_icao  194 non-null    object\n",
      " 3   sg_empresa_iata  194 non-null    object\n",
      " 4   nm_empresa       194 non-null    object\n",
      " 5   ds_tipo_empresa  194 non-null    object\n",
      "dtypes: int64(1), object(5)\n",
      "memory usage: 10.6+ KB\n"
     ]
    }
   ],
   "source": [
    "company = company.dropna()\n",
    "\n",
    "company.info()"
   ]
  },
  {
   "cell_type": "code",
   "execution_count": 16,
   "metadata": {},
   "outputs": [],
   "source": [
    "company.drop(['DT_CARGA_DW'], axis=1, inplace=True)"
   ]
  },
  {
   "cell_type": "markdown",
   "metadata": {},
   "source": [
    "### equip"
   ]
  },
  {
   "cell_type": "code",
   "execution_count": 17,
   "metadata": {},
   "outputs": [
    {
     "data": {
      "text/html": [
       "<div>\n",
       "<style scoped>\n",
       "    .dataframe tbody tr th:only-of-type {\n",
       "        vertical-align: middle;\n",
       "    }\n",
       "\n",
       "    .dataframe tbody tr th {\n",
       "        vertical-align: top;\n",
       "    }\n",
       "\n",
       "    .dataframe thead th {\n",
       "        text-align: right;\n",
       "    }\n",
       "</style>\n",
       "<table border=\"1\" class=\"dataframe\">\n",
       "  <thead>\n",
       "    <tr style=\"text-align: right;\">\n",
       "      <th></th>\n",
       "      <th>id_equipamento</th>\n",
       "      <th>DT_CARGA_DW</th>\n",
       "      <th>sg_equipamento_icao</th>\n",
       "      <th>ds_modelo</th>\n",
       "    </tr>\n",
       "  </thead>\n",
       "  <tbody>\n",
       "    <tr>\n",
       "      <th>0</th>\n",
       "      <td>0</td>\n",
       "      <td>2020-12-28T16:10:21</td>\n",
       "      <td>NaN</td>\n",
       "      <td>NaN</td>\n",
       "    </tr>\n",
       "    <tr>\n",
       "      <th>1</th>\n",
       "      <td>5</td>\n",
       "      <td>2020-12-28T16:10:21</td>\n",
       "      <td>A124</td>\n",
       "      <td>ANTONOV AN-124 RUSLAN</td>\n",
       "    </tr>\n",
       "    <tr>\n",
       "      <th>2</th>\n",
       "      <td>11</td>\n",
       "      <td>2020-12-28T16:10:21</td>\n",
       "      <td>A30B</td>\n",
       "      <td>AIRBUS INDUSTRIE A300C4/F4 FREIGHTER</td>\n",
       "    </tr>\n",
       "    <tr>\n",
       "      <th>3</th>\n",
       "      <td>12</td>\n",
       "      <td>2020-12-28T16:10:21</td>\n",
       "      <td>A310</td>\n",
       "      <td>AIRBUS A310</td>\n",
       "    </tr>\n",
       "    <tr>\n",
       "      <th>4</th>\n",
       "      <td>13</td>\n",
       "      <td>2020-12-28T16:10:21</td>\n",
       "      <td>A318</td>\n",
       "      <td>AIRBUS A318</td>\n",
       "    </tr>\n",
       "  </tbody>\n",
       "</table>\n",
       "</div>"
      ],
      "text/plain": [
       "   id_equipamento          DT_CARGA_DW sg_equipamento_icao  \\\n",
       "0               0  2020-12-28T16:10:21                 NaN   \n",
       "1               5  2020-12-28T16:10:21                A124   \n",
       "2              11  2020-12-28T16:10:21                A30B   \n",
       "3              12  2020-12-28T16:10:21                A310   \n",
       "4              13  2020-12-28T16:10:21                A318   \n",
       "\n",
       "                              ds_modelo  \n",
       "0                                   NaN  \n",
       "1                 ANTONOV AN-124 RUSLAN  \n",
       "2  AIRBUS INDUSTRIE A300C4/F4 FREIGHTER  \n",
       "3                           AIRBUS A310  \n",
       "4                           AIRBUS A318  "
      ]
     },
     "execution_count": 17,
     "metadata": {},
     "output_type": "execute_result"
    }
   ],
   "source": [
    "equip.head()"
   ]
  },
  {
   "cell_type": "code",
   "execution_count": 18,
   "metadata": {},
   "outputs": [
    {
     "name": "stdout",
     "output_type": "stream",
     "text": [
      "<class 'pandas.core.frame.DataFrame'>\n",
      "RangeIndex: 92 entries, 0 to 91\n",
      "Data columns (total 4 columns):\n",
      " #   Column               Non-Null Count  Dtype \n",
      "---  ------               --------------  ----- \n",
      " 0   id_equipamento       92 non-null     int64 \n",
      " 1   DT_CARGA_DW          92 non-null     object\n",
      " 2   sg_equipamento_icao  91 non-null     object\n",
      " 3   ds_modelo            90 non-null     object\n",
      "dtypes: int64(1), object(3)\n",
      "memory usage: 3.0+ KB\n"
     ]
    }
   ],
   "source": [
    "equip.info()"
   ]
  },
  {
   "cell_type": "code",
   "execution_count": 19,
   "metadata": {},
   "outputs": [
    {
     "name": "stdout",
     "output_type": "stream",
     "text": [
      "<class 'pandas.core.frame.DataFrame'>\n",
      "Index: 90 entries, 1 to 91\n",
      "Data columns (total 4 columns):\n",
      " #   Column               Non-Null Count  Dtype \n",
      "---  ------               --------------  ----- \n",
      " 0   id_equipamento       90 non-null     int64 \n",
      " 1   DT_CARGA_DW          90 non-null     object\n",
      " 2   sg_equipamento_icao  90 non-null     object\n",
      " 3   ds_modelo            90 non-null     object\n",
      "dtypes: int64(1), object(3)\n",
      "memory usage: 3.5+ KB\n"
     ]
    }
   ],
   "source": [
    "#drop the null values in the dataset\n",
    "equip = equip.dropna()\n",
    "\n",
    "equip.info()"
   ]
  },
  {
   "cell_type": "code",
   "execution_count": 20,
   "metadata": {},
   "outputs": [],
   "source": [
    "equip.drop(['DT_CARGA_DW'], axis=1, inplace=True)"
   ]
  },
  {
   "cell_type": "markdown",
   "metadata": {},
   "source": [
    "### line"
   ]
  },
  {
   "cell_type": "code",
   "execution_count": 21,
   "metadata": {},
   "outputs": [
    {
     "data": {
      "text/html": [
       "<div>\n",
       "<style scoped>\n",
       "    .dataframe tbody tr th:only-of-type {\n",
       "        vertical-align: middle;\n",
       "    }\n",
       "\n",
       "    .dataframe tbody tr th {\n",
       "        vertical-align: top;\n",
       "    }\n",
       "\n",
       "    .dataframe thead th {\n",
       "        text-align: right;\n",
       "    }\n",
       "</style>\n",
       "<table border=\"1\" class=\"dataframe\">\n",
       "  <thead>\n",
       "    <tr style=\"text-align: right;\">\n",
       "      <th></th>\n",
       "      <th>id_tipo_linha</th>\n",
       "      <th>DT_CARGA_DW</th>\n",
       "      <th>cd_tipo_linha</th>\n",
       "      <th>ds_tipo_linha</th>\n",
       "      <th>ds_natureza_tipo_linha</th>\n",
       "      <th>ds_servico_tipo_linha</th>\n",
       "    </tr>\n",
       "  </thead>\n",
       "  <tbody>\n",
       "    <tr>\n",
       "      <th>0</th>\n",
       "      <td>0</td>\n",
       "      <td>2020-12-28T16:10:21</td>\n",
       "      <td>X</td>\n",
       "      <td>NÃO IDENTIFICADA</td>\n",
       "      <td>NÃO IDENTIFICADA</td>\n",
       "      <td>NÃO IDENTIFICADO</td>\n",
       "    </tr>\n",
       "    <tr>\n",
       "      <th>1</th>\n",
       "      <td>1</td>\n",
       "      <td>2020-12-28T16:10:21</td>\n",
       "      <td>N</td>\n",
       "      <td>DOMÉSTICA MISTA</td>\n",
       "      <td>DOMÉSTICA</td>\n",
       "      <td>PASSAGEIRO</td>\n",
       "    </tr>\n",
       "    <tr>\n",
       "      <th>2</th>\n",
       "      <td>2</td>\n",
       "      <td>2020-12-28T16:10:21</td>\n",
       "      <td>C</td>\n",
       "      <td>DOMÉSTICA CARGUEIRA</td>\n",
       "      <td>DOMÉSTICA</td>\n",
       "      <td>CARGUEIRO</td>\n",
       "    </tr>\n",
       "    <tr>\n",
       "      <th>3</th>\n",
       "      <td>3</td>\n",
       "      <td>2020-12-28T16:10:21</td>\n",
       "      <td>I</td>\n",
       "      <td>INTERNACIONAL MISTA</td>\n",
       "      <td>INTERNACIONAL</td>\n",
       "      <td>PASSAGEIRO</td>\n",
       "    </tr>\n",
       "    <tr>\n",
       "      <th>4</th>\n",
       "      <td>4</td>\n",
       "      <td>2020-12-28T16:10:21</td>\n",
       "      <td>G</td>\n",
       "      <td>INTERNACIONAL CARGUEIRA</td>\n",
       "      <td>INTERNACIONAL</td>\n",
       "      <td>CARGUEIRO</td>\n",
       "    </tr>\n",
       "    <tr>\n",
       "      <th>5</th>\n",
       "      <td>5</td>\n",
       "      <td>2020-12-28T16:10:21</td>\n",
       "      <td>E</td>\n",
       "      <td>DOMÉSTICA ESPECIAL</td>\n",
       "      <td>DOMÉSTICA</td>\n",
       "      <td>PASSAGEIRO</td>\n",
       "    </tr>\n",
       "    <tr>\n",
       "      <th>6</th>\n",
       "      <td>6</td>\n",
       "      <td>2020-12-28T16:10:21</td>\n",
       "      <td>H</td>\n",
       "      <td>INTERNACIONAL SUB-REGIONAL</td>\n",
       "      <td>INTERNACIONAL</td>\n",
       "      <td>PASSAGEIRO</td>\n",
       "    </tr>\n",
       "    <tr>\n",
       "      <th>7</th>\n",
       "      <td>7</td>\n",
       "      <td>2020-12-28T16:10:21</td>\n",
       "      <td>R</td>\n",
       "      <td>DOMÉSTICA REGIONAL</td>\n",
       "      <td>DOMÉSTICA</td>\n",
       "      <td>PASSAGEIRO</td>\n",
       "    </tr>\n",
       "    <tr>\n",
       "      <th>8</th>\n",
       "      <td>8</td>\n",
       "      <td>2020-12-28T16:10:21</td>\n",
       "      <td>L</td>\n",
       "      <td>DOMÉSTICA REDE POSTAL</td>\n",
       "      <td>DOMÉSTICA</td>\n",
       "      <td>CARGUEIRO</td>\n",
       "    </tr>\n",
       "  </tbody>\n",
       "</table>\n",
       "</div>"
      ],
      "text/plain": [
       "   id_tipo_linha          DT_CARGA_DW cd_tipo_linha  \\\n",
       "0              0  2020-12-28T16:10:21             X   \n",
       "1              1  2020-12-28T16:10:21             N   \n",
       "2              2  2020-12-28T16:10:21             C   \n",
       "3              3  2020-12-28T16:10:21             I   \n",
       "4              4  2020-12-28T16:10:21             G   \n",
       "5              5  2020-12-28T16:10:21             E   \n",
       "6              6  2020-12-28T16:10:21             H   \n",
       "7              7  2020-12-28T16:10:21             R   \n",
       "8              8  2020-12-28T16:10:21             L   \n",
       "\n",
       "                ds_tipo_linha ds_natureza_tipo_linha ds_servico_tipo_linha  \n",
       "0            NÃO IDENTIFICADA       NÃO IDENTIFICADA      NÃO IDENTIFICADO  \n",
       "1             DOMÉSTICA MISTA              DOMÉSTICA            PASSAGEIRO  \n",
       "2         DOMÉSTICA CARGUEIRA              DOMÉSTICA             CARGUEIRO  \n",
       "3         INTERNACIONAL MISTA          INTERNACIONAL            PASSAGEIRO  \n",
       "4     INTERNACIONAL CARGUEIRA          INTERNACIONAL             CARGUEIRO  \n",
       "5          DOMÉSTICA ESPECIAL              DOMÉSTICA            PASSAGEIRO  \n",
       "6  INTERNACIONAL SUB-REGIONAL          INTERNACIONAL            PASSAGEIRO  \n",
       "7          DOMÉSTICA REGIONAL              DOMÉSTICA            PASSAGEIRO  \n",
       "8       DOMÉSTICA REDE POSTAL              DOMÉSTICA             CARGUEIRO  "
      ]
     },
     "execution_count": 21,
     "metadata": {},
     "output_type": "execute_result"
    }
   ],
   "source": [
    "line"
   ]
  },
  {
   "cell_type": "code",
   "execution_count": 22,
   "metadata": {},
   "outputs": [
    {
     "name": "stdout",
     "output_type": "stream",
     "text": [
      "<class 'pandas.core.frame.DataFrame'>\n",
      "RangeIndex: 8 entries, 1 to 8\n",
      "Data columns (total 6 columns):\n",
      " #   Column                  Non-Null Count  Dtype \n",
      "---  ------                  --------------  ----- \n",
      " 0   id_tipo_linha           8 non-null      int64 \n",
      " 1   DT_CARGA_DW             8 non-null      object\n",
      " 2   cd_tipo_linha           8 non-null      object\n",
      " 3   ds_tipo_linha           8 non-null      object\n",
      " 4   ds_natureza_tipo_linha  8 non-null      object\n",
      " 5   ds_servico_tipo_linha   8 non-null      object\n",
      "dtypes: int64(1), object(5)\n",
      "memory usage: 516.0+ bytes\n"
     ]
    }
   ],
   "source": [
    "line = line.drop([0])\n",
    "line.info()"
   ]
  },
  {
   "cell_type": "code",
   "execution_count": 23,
   "metadata": {},
   "outputs": [],
   "source": [
    "line.drop(['DT_CARGA_DW'], axis=1, inplace=True)"
   ]
  },
  {
   "cell_type": "markdown",
   "metadata": {},
   "source": [
    "## And now the big guy"
   ]
  },
  {
   "cell_type": "code",
   "execution_count": 24,
   "metadata": {},
   "outputs": [
    {
     "name": "stderr",
     "output_type": "stream",
     "text": [
      "C:\\Users\\tomas\\AppData\\Local\\Temp\\ipykernel_35028\\1177717261.py:2: DtypeWarning: Columns (3,5) have mixed types. Specify dtype option on import or set low_memory=False.\n",
      "  voos = pd.read_csv(voos_path, encoding='latin1')\n"
     ]
    }
   ],
   "source": [
    "voos_path = 'dataset/DW_VOOS.csv'\n",
    "voos = pd.read_csv(voos_path, encoding='latin1')"
   ]
  },
  {
   "cell_type": "code",
   "execution_count": 25,
   "metadata": {},
   "outputs": [
    {
     "data": {
      "text/html": [
       "<div>\n",
       "<style scoped>\n",
       "    .dataframe tbody tr th:only-of-type {\n",
       "        vertical-align: middle;\n",
       "    }\n",
       "\n",
       "    .dataframe tbody tr th {\n",
       "        vertical-align: top;\n",
       "    }\n",
       "\n",
       "    .dataframe thead th {\n",
       "        text-align: right;\n",
       "    }\n",
       "</style>\n",
       "<table border=\"1\" class=\"dataframe\">\n",
       "  <thead>\n",
       "    <tr style=\"text-align: right;\">\n",
       "      <th></th>\n",
       "      <th>id_basica</th>\n",
       "      <th>id_empresa</th>\n",
       "      <th>nr_voo</th>\n",
       "      <th>nr_singular</th>\n",
       "      <th>id_di</th>\n",
       "      <th>cd_di</th>\n",
       "      <th>ds_di</th>\n",
       "      <th>ds_grupo_di</th>\n",
       "      <th>dt_referencia</th>\n",
       "      <th>nr_semana_referencia</th>\n",
       "      <th>...</th>\n",
       "      <th>nr_correio_km</th>\n",
       "      <th>nr_bagagem_paga_km</th>\n",
       "      <th>nr_bagagem_gratis_km</th>\n",
       "      <th>nr_ask</th>\n",
       "      <th>nr_rpk</th>\n",
       "      <th>nr_atk</th>\n",
       "      <th>nr_rtk</th>\n",
       "      <th>id_arquivo</th>\n",
       "      <th>nr_linha</th>\n",
       "      <th>dt_sistema</th>\n",
       "    </tr>\n",
       "  </thead>\n",
       "  <tbody>\n",
       "    <tr>\n",
       "      <th>0</th>\n",
       "      <td>20204791</td>\n",
       "      <td>1001208</td>\n",
       "      <td>270</td>\n",
       "      <td>750</td>\n",
       "      <td>5</td>\n",
       "      <td>3</td>\n",
       "      <td>RETORNO</td>\n",
       "      <td>IMPRODUTIVO</td>\n",
       "      <td>2000-01-05</td>\n",
       "      <td>2</td>\n",
       "      <td>...</td>\n",
       "      <td>0.0</td>\n",
       "      <td>0.0</td>\n",
       "      <td>0.0</td>\n",
       "      <td>0.0</td>\n",
       "      <td>0.0</td>\n",
       "      <td>582340.0</td>\n",
       "      <td>463844.0</td>\n",
       "      <td>15757</td>\n",
       "      <td>141.0</td>\n",
       "      <td>2020-02-06T05:26:59</td>\n",
       "    </tr>\n",
       "    <tr>\n",
       "      <th>1</th>\n",
       "      <td>20204792</td>\n",
       "      <td>1001208</td>\n",
       "      <td>270</td>\n",
       "      <td>750</td>\n",
       "      <td>5</td>\n",
       "      <td>3</td>\n",
       "      <td>RETORNO</td>\n",
       "      <td>IMPRODUTIVO</td>\n",
       "      <td>2000-01-05</td>\n",
       "      <td>2</td>\n",
       "      <td>...</td>\n",
       "      <td>0.0</td>\n",
       "      <td>0.0</td>\n",
       "      <td>0.0</td>\n",
       "      <td>0.0</td>\n",
       "      <td>0.0</td>\n",
       "      <td>503250.0</td>\n",
       "      <td>400847.0</td>\n",
       "      <td>15757</td>\n",
       "      <td>139.0</td>\n",
       "      <td>2020-02-06T05:26:59</td>\n",
       "    </tr>\n",
       "    <tr>\n",
       "      <th>2</th>\n",
       "      <td>20204793</td>\n",
       "      <td>1001208</td>\n",
       "      <td>265</td>\n",
       "      <td>750</td>\n",
       "      <td>5</td>\n",
       "      <td>3</td>\n",
       "      <td>RETORNO</td>\n",
       "      <td>IMPRODUTIVO</td>\n",
       "      <td>2000-01-30</td>\n",
       "      <td>6</td>\n",
       "      <td>...</td>\n",
       "      <td>0.0</td>\n",
       "      <td>0.0</td>\n",
       "      <td>0.0</td>\n",
       "      <td>0.0</td>\n",
       "      <td>0.0</td>\n",
       "      <td>503250.0</td>\n",
       "      <td>56222.0</td>\n",
       "      <td>15757</td>\n",
       "      <td>138.0</td>\n",
       "      <td>2020-02-06T05:26:59</td>\n",
       "    </tr>\n",
       "    <tr>\n",
       "      <th>3</th>\n",
       "      <td>20204794</td>\n",
       "      <td>1001208</td>\n",
       "      <td>265</td>\n",
       "      <td>750</td>\n",
       "      <td>5</td>\n",
       "      <td>3</td>\n",
       "      <td>RETORNO</td>\n",
       "      <td>IMPRODUTIVO</td>\n",
       "      <td>2000-01-30</td>\n",
       "      <td>6</td>\n",
       "      <td>...</td>\n",
       "      <td>0.0</td>\n",
       "      <td>0.0</td>\n",
       "      <td>0.0</td>\n",
       "      <td>0.0</td>\n",
       "      <td>0.0</td>\n",
       "      <td>582340.0</td>\n",
       "      <td>65057.0</td>\n",
       "      <td>15757</td>\n",
       "      <td>136.0</td>\n",
       "      <td>2020-02-06T05:26:59</td>\n",
       "    </tr>\n",
       "    <tr>\n",
       "      <th>4</th>\n",
       "      <td>20204813</td>\n",
       "      <td>1001208</td>\n",
       "      <td>264</td>\n",
       "      <td>750</td>\n",
       "      <td>5</td>\n",
       "      <td>3</td>\n",
       "      <td>RETORNO</td>\n",
       "      <td>IMPRODUTIVO</td>\n",
       "      <td>2000-01-23</td>\n",
       "      <td>5</td>\n",
       "      <td>...</td>\n",
       "      <td>0.0</td>\n",
       "      <td>0.0</td>\n",
       "      <td>0.0</td>\n",
       "      <td>0.0</td>\n",
       "      <td>0.0</td>\n",
       "      <td>582340.0</td>\n",
       "      <td>343278.0</td>\n",
       "      <td>15757</td>\n",
       "      <td>102.0</td>\n",
       "      <td>2020-02-06T05:26:59</td>\n",
       "    </tr>\n",
       "  </tbody>\n",
       "</table>\n",
       "<p>5 rows × 52 columns</p>\n",
       "</div>"
      ],
      "text/plain": [
       "   id_basica  id_empresa  nr_voo nr_singular  id_di cd_di    ds_di  \\\n",
       "0   20204791     1001208     270         750      5     3  RETORNO   \n",
       "1   20204792     1001208     270         750      5     3  RETORNO   \n",
       "2   20204793     1001208     265         750      5     3  RETORNO   \n",
       "3   20204794     1001208     265         750      5     3  RETORNO   \n",
       "4   20204813     1001208     264         750      5     3  RETORNO   \n",
       "\n",
       "   ds_grupo_di dt_referencia  nr_semana_referencia  ...  nr_correio_km  \\\n",
       "0  IMPRODUTIVO    2000-01-05                     2  ...            0.0   \n",
       "1  IMPRODUTIVO    2000-01-05                     2  ...            0.0   \n",
       "2  IMPRODUTIVO    2000-01-30                     6  ...            0.0   \n",
       "3  IMPRODUTIVO    2000-01-30                     6  ...            0.0   \n",
       "4  IMPRODUTIVO    2000-01-23                     5  ...            0.0   \n",
       "\n",
       "  nr_bagagem_paga_km nr_bagagem_gratis_km nr_ask  nr_rpk    nr_atk    nr_rtk  \\\n",
       "0                0.0                  0.0    0.0     0.0  582340.0  463844.0   \n",
       "1                0.0                  0.0    0.0     0.0  503250.0  400847.0   \n",
       "2                0.0                  0.0    0.0     0.0  503250.0   56222.0   \n",
       "3                0.0                  0.0    0.0     0.0  582340.0   65057.0   \n",
       "4                0.0                  0.0    0.0     0.0  582340.0  343278.0   \n",
       "\n",
       "  id_arquivo nr_linha           dt_sistema  \n",
       "0      15757    141.0  2020-02-06T05:26:59  \n",
       "1      15757    139.0  2020-02-06T05:26:59  \n",
       "2      15757    138.0  2020-02-06T05:26:59  \n",
       "3      15757    136.0  2020-02-06T05:26:59  \n",
       "4      15757    102.0  2020-02-06T05:26:59  \n",
       "\n",
       "[5 rows x 52 columns]"
      ]
     },
     "execution_count": 25,
     "metadata": {},
     "output_type": "execute_result"
    }
   ],
   "source": [
    "voos.head()"
   ]
  },
  {
   "cell_type": "code",
   "execution_count": 26,
   "metadata": {},
   "outputs": [
    {
     "data": {
      "text/plain": [
       "Index(['id_basica', 'id_empresa', 'nr_voo', 'nr_singular', 'id_di', 'cd_di',\n",
       "       'ds_di', 'ds_grupo_di', 'dt_referencia', 'nr_semana_referencia',\n",
       "       'id_tipo_linha', 'ds_natureza_etapa', 'hr_partida_real',\n",
       "       'dt_partida_real', 'nr_semana_partida_real', 'id_aerodromo_origem',\n",
       "       'nr_etapa', 'hr_chegada_real', 'dt_chegada_real',\n",
       "       'nr_semana_chegada_real', 'id_equipamento', 'ds_modelo', 'ds_matricula',\n",
       "       'id_aerodromo_destino', 'lt_combustivel', 'nr_assentos_ofertados',\n",
       "       'kg_payload', 'km_distancia', 'nr_passag_pagos', 'nr_passag_gratis',\n",
       "       'kg_bagagem_livre', 'kg_bagagem_excesso', 'kg_carga_paga',\n",
       "       'kg_carga_gratis', 'kg_correio', 'nr_decolagem', 'nr_horas_voadas',\n",
       "       'kg_peso', 'nr_velocidade_media', 'nr_pax_gratis_km',\n",
       "       'nr_carga_paga_km', 'nr_carga_gratis_km', 'nr_correio_km',\n",
       "       'nr_bagagem_paga_km', 'nr_bagagem_gratis_km', 'nr_ask', 'nr_rpk',\n",
       "       'nr_atk', 'nr_rtk', 'id_arquivo', 'nr_linha', 'dt_sistema'],\n",
       "      dtype='object')"
      ]
     },
     "execution_count": 26,
     "metadata": {},
     "output_type": "execute_result"
    }
   ],
   "source": [
    "voos.columns"
   ]
  },
  {
   "cell_type": "code",
   "execution_count": 27,
   "metadata": {},
   "outputs": [
    {
     "name": "stdout",
     "output_type": "stream",
     "text": [
      "<class 'pandas.core.frame.DataFrame'>\n",
      "RangeIndex: 18051399 entries, 0 to 18051398\n",
      "Data columns (total 52 columns):\n",
      " #   Column                  Dtype  \n",
      "---  ------                  -----  \n",
      " 0   id_basica               int64  \n",
      " 1   id_empresa              int64  \n",
      " 2   nr_voo                  int64  \n",
      " 3   nr_singular             object \n",
      " 4   id_di                   int64  \n",
      " 5   cd_di                   object \n",
      " 6   ds_di                   object \n",
      " 7   ds_grupo_di             object \n",
      " 8   dt_referencia           object \n",
      " 9   nr_semana_referencia    int64  \n",
      " 10  id_tipo_linha           int64  \n",
      " 11  ds_natureza_etapa       object \n",
      " 12  hr_partida_real         object \n",
      " 13  dt_partida_real         object \n",
      " 14  nr_semana_partida_real  float64\n",
      " 15  id_aerodromo_origem     int64  \n",
      " 16  nr_etapa                int64  \n",
      " 17  hr_chegada_real         object \n",
      " 18  dt_chegada_real         object \n",
      " 19  nr_semana_chegada_real  float64\n",
      " 20  id_equipamento          int64  \n",
      " 21  ds_modelo               object \n",
      " 22  ds_matricula            object \n",
      " 23  id_aerodromo_destino    int64  \n",
      " 24  lt_combustivel          float64\n",
      " 25  nr_assentos_ofertados   float64\n",
      " 26  kg_payload              float64\n",
      " 27  km_distancia            float64\n",
      " 28  nr_passag_pagos         float64\n",
      " 29  nr_passag_gratis        float64\n",
      " 30  kg_bagagem_livre        float64\n",
      " 31  kg_bagagem_excesso      float64\n",
      " 32  kg_carga_paga           float64\n",
      " 33  kg_carga_gratis         float64\n",
      " 34  kg_correio              float64\n",
      " 35  nr_decolagem            int64  \n",
      " 36  nr_horas_voadas         float64\n",
      " 37  kg_peso                 float64\n",
      " 38  nr_velocidade_media     float64\n",
      " 39  nr_pax_gratis_km        float64\n",
      " 40  nr_carga_paga_km        float64\n",
      " 41  nr_carga_gratis_km      float64\n",
      " 42  nr_correio_km           float64\n",
      " 43  nr_bagagem_paga_km      float64\n",
      " 44  nr_bagagem_gratis_km    float64\n",
      " 45  nr_ask                  float64\n",
      " 46  nr_rpk                  float64\n",
      " 47  nr_atk                  float64\n",
      " 48  nr_rtk                  float64\n",
      " 49  id_arquivo              int64  \n",
      " 50  nr_linha                float64\n",
      " 51  dt_sistema              object \n",
      "dtypes: float64(27), int64(12), object(13)\n",
      "memory usage: 7.0+ GB\n"
     ]
    }
   ],
   "source": [
    "voos.info(verbose = True)"
   ]
  },
  {
   "cell_type": "markdown",
   "metadata": {},
   "source": [
    "### what now?\n",
    "I want to keep just informations that are available also in the other tables. in order to do so, I follow this logic:\n",
    "\n",
    "keep flights with: \n",
    "-   cleaned id_empresa\n",
    "-   cleaned id_equipamento\n",
    "-   cleaned id_aerodromo_origem\n",
    "-   cleaned id_aerodromo_destino\n",
    "-   cleaned id_tipo_linea\n",
    "\n",
    "after this, check the shape of the table and decide what to do"
   ]
  },
  {
   "cell_type": "code",
   "execution_count": 28,
   "metadata": {},
   "outputs": [],
   "source": [
    "company_ids = company['id_empresa'].tolist()\n",
    "\n",
    "voos = voos[voos['id_empresa'].isin(company_ids)]"
   ]
  },
  {
   "cell_type": "code",
   "execution_count": 29,
   "metadata": {},
   "outputs": [
    {
     "data": {
      "text/plain": [
       "(17491545, 52)"
      ]
     },
     "execution_count": 29,
     "metadata": {},
     "output_type": "execute_result"
    }
   ],
   "source": [
    "voos.shape"
   ]
  },
  {
   "cell_type": "code",
   "execution_count": 30,
   "metadata": {},
   "outputs": [],
   "source": [
    "equip_ids = equip['id_equipamento'].tolist()\n",
    "voos = voos[voos['id_equipamento'].isin(equip_ids)]"
   ]
  },
  {
   "cell_type": "code",
   "execution_count": 31,
   "metadata": {},
   "outputs": [
    {
     "data": {
      "text/plain": [
       "(17435021, 52)"
      ]
     },
     "execution_count": 31,
     "metadata": {},
     "output_type": "execute_result"
    }
   ],
   "source": [
    "voos.shape"
   ]
  },
  {
   "cell_type": "code",
   "execution_count": 32,
   "metadata": {},
   "outputs": [],
   "source": [
    "orig_ids = orig['id_aerodromo_origem'].tolist()\n",
    "voos = voos[voos['id_aerodromo_origem'].isin(orig_ids)]"
   ]
  },
  {
   "cell_type": "code",
   "execution_count": 33,
   "metadata": {},
   "outputs": [
    {
     "data": {
      "text/plain": [
       "(17154617, 52)"
      ]
     },
     "execution_count": 33,
     "metadata": {},
     "output_type": "execute_result"
    }
   ],
   "source": [
    "voos.shape"
   ]
  },
  {
   "cell_type": "code",
   "execution_count": 34,
   "metadata": {},
   "outputs": [],
   "source": [
    "dest_ids = dest['id_aerodromo_destino'].tolist()\n",
    "voos = voos[voos['id_aerodromo_destino'].isin(dest_ids)]"
   ]
  },
  {
   "cell_type": "code",
   "execution_count": 35,
   "metadata": {},
   "outputs": [
    {
     "data": {
      "text/plain": [
       "(16893309, 52)"
      ]
     },
     "execution_count": 35,
     "metadata": {},
     "output_type": "execute_result"
    }
   ],
   "source": [
    "voos.shape"
   ]
  },
  {
   "cell_type": "code",
   "execution_count": 36,
   "metadata": {},
   "outputs": [],
   "source": [
    "line_ids = line['id_tipo_linha'].tolist()\n",
    "voos = voos[voos['id_tipo_linha'].isin(line_ids)]"
   ]
  },
  {
   "cell_type": "code",
   "execution_count": 37,
   "metadata": {},
   "outputs": [
    {
     "data": {
      "text/plain": [
       "(15453534, 52)"
      ]
     },
     "execution_count": 37,
     "metadata": {},
     "output_type": "execute_result"
    }
   ],
   "source": [
    "voos.shape"
   ]
  },
  {
   "cell_type": "code",
   "execution_count": 38,
   "metadata": {},
   "outputs": [
    {
     "name": "stdout",
     "output_type": "stream",
     "text": [
      "<class 'pandas.core.frame.DataFrame'>\n",
      "Index: 15453534 entries, 1835 to 18051398\n",
      "Data columns (total 52 columns):\n",
      " #   Column                  Dtype  \n",
      "---  ------                  -----  \n",
      " 0   id_basica               int64  \n",
      " 1   id_empresa              int64  \n",
      " 2   nr_voo                  int64  \n",
      " 3   nr_singular             object \n",
      " 4   id_di                   int64  \n",
      " 5   cd_di                   object \n",
      " 6   ds_di                   object \n",
      " 7   ds_grupo_di             object \n",
      " 8   dt_referencia           object \n",
      " 9   nr_semana_referencia    int64  \n",
      " 10  id_tipo_linha           int64  \n",
      " 11  ds_natureza_etapa       object \n",
      " 12  hr_partida_real         object \n",
      " 13  dt_partida_real         object \n",
      " 14  nr_semana_partida_real  float64\n",
      " 15  id_aerodromo_origem     int64  \n",
      " 16  nr_etapa                int64  \n",
      " 17  hr_chegada_real         object \n",
      " 18  dt_chegada_real         object \n",
      " 19  nr_semana_chegada_real  float64\n",
      " 20  id_equipamento          int64  \n",
      " 21  ds_modelo               object \n",
      " 22  ds_matricula            object \n",
      " 23  id_aerodromo_destino    int64  \n",
      " 24  lt_combustivel          float64\n",
      " 25  nr_assentos_ofertados   float64\n",
      " 26  kg_payload              float64\n",
      " 27  km_distancia            float64\n",
      " 28  nr_passag_pagos         float64\n",
      " 29  nr_passag_gratis        float64\n",
      " 30  kg_bagagem_livre        float64\n",
      " 31  kg_bagagem_excesso      float64\n",
      " 32  kg_carga_paga           float64\n",
      " 33  kg_carga_gratis         float64\n",
      " 34  kg_correio              float64\n",
      " 35  nr_decolagem            int64  \n",
      " 36  nr_horas_voadas         float64\n",
      " 37  kg_peso                 float64\n",
      " 38  nr_velocidade_media     float64\n",
      " 39  nr_pax_gratis_km        float64\n",
      " 40  nr_carga_paga_km        float64\n",
      " 41  nr_carga_gratis_km      float64\n",
      " 42  nr_correio_km           float64\n",
      " 43  nr_bagagem_paga_km      float64\n",
      " 44  nr_bagagem_gratis_km    float64\n",
      " 45  nr_ask                  float64\n",
      " 46  nr_rpk                  float64\n",
      " 47  nr_atk                  float64\n",
      " 48  nr_rtk                  float64\n",
      " 49  id_arquivo              int64  \n",
      " 50  nr_linha                float64\n",
      " 51  dt_sistema              object \n",
      "dtypes: float64(27), int64(12), object(13)\n",
      "memory usage: 6.1+ GB\n"
     ]
    }
   ],
   "source": [
    "voos.info()"
   ]
  },
  {
   "cell_type": "code",
   "execution_count": 39,
   "metadata": {},
   "outputs": [
    {
     "data": {
      "text/plain": [
       "(15430224, 52)"
      ]
     },
     "execution_count": 39,
     "metadata": {},
     "output_type": "execute_result"
    }
   ],
   "source": [
    "voos.dropna(inplace=True)\n",
    "voos.shape"
   ]
  },
  {
   "cell_type": "markdown",
   "metadata": {},
   "source": [
    "##### ok **maybe** 15,4 M of flights are a bit too much :/ I'm going to find a way to diminish it substantially"
   ]
  },
  {
   "cell_type": "code",
   "execution_count": 40,
   "metadata": {},
   "outputs": [
    {
     "data": {
      "text/plain": [
       "array(['2000-01-11', '2000-01-21', '2000-01-27', ..., '2020-11-21',\n",
       "       '2020-11-20', '2020-12-01'], dtype=object)"
      ]
     },
     "execution_count": 40,
     "metadata": {},
     "output_type": "execute_result"
    }
   ],
   "source": [
    "voos.dt_partida_real.unique()"
   ]
  },
  {
   "cell_type": "code",
   "execution_count": 41,
   "metadata": {},
   "outputs": [
    {
     "data": {
      "text/plain": [
       "(2107263, 52)"
      ]
     },
     "execution_count": 41,
     "metadata": {},
     "output_type": "execute_result"
    }
   ],
   "source": [
    "# keep the flights where date of departure is after 2018\n",
    "flights = voos.copy()\n",
    "flights = flights[flights['dt_partida_real'] > '2018-01-01']\n",
    "flights.shape"
   ]
  },
  {
   "cell_type": "markdown",
   "metadata": {},
   "source": [
    "##### much better, but still 2,1 M is still a lot... maybe i'll just keep the flights for the last year (2020)"
   ]
  },
  {
   "cell_type": "code",
   "execution_count": 42,
   "metadata": {},
   "outputs": [],
   "source": [
    "flights2 = flights.copy()\n",
    "flights2 = flights2[flights2['dt_partida_real'] > '2020-01-01']"
   ]
  },
  {
   "cell_type": "code",
   "execution_count": 43,
   "metadata": {},
   "outputs": [
    {
     "data": {
      "text/plain": [
       "(367029, 52)"
      ]
     },
     "execution_count": 43,
     "metadata": {},
     "output_type": "execute_result"
    }
   ],
   "source": [
    "flights2.shape"
   ]
  },
  {
   "cell_type": "markdown",
   "metadata": {},
   "source": [
    "##### ok 300K is more managable. Now, I have to make sure that the other tables just keep the useful informations that I have in the flights2 table"
   ]
  },
  {
   "cell_type": "code",
   "execution_count": 44,
   "metadata": {},
   "outputs": [
    {
     "name": "stdout",
     "output_type": "stream",
     "text": [
      "before: line: (8, 5), orig: (732, 7), dest: (755, 7), equip: (90, 3), company: (194, 5)\n",
      "after: line: (4, 5), orig: (248, 7), dest: (253, 7), equip: (22, 3), company: (13, 5)\n"
     ]
    }
   ],
   "source": [
    "print(f'before: line: {line.shape}, orig: {orig.shape}, dest: {dest.shape}, equip: {equip.shape}, company: {company.shape}')\n",
    "\n",
    "line_id = flights2['id_tipo_linha'].tolist()\n",
    "line = line[line['id_tipo_linha'].isin(line_id)]\n",
    "\n",
    "dep_id = flights2['id_aerodromo_origem'].tolist()\n",
    "orig = orig[orig['id_aerodromo_origem'].isin(dep_id)]\n",
    "\n",
    "dest_id = flights2['id_aerodromo_destino'].tolist()\n",
    "dest = dest[dest['id_aerodromo_destino'].isin(dest_id)]\n",
    "\n",
    "equip_id = flights2['id_equipamento'].tolist()\n",
    "equip = equip[equip['id_equipamento'].isin(equip_id)]\n",
    "\n",
    "company_id = flights2['id_empresa'].tolist()\n",
    "company = company[company['id_empresa'].isin(company_id)]\n",
    "\n",
    "print(f'after: line: {line.shape}, orig: {orig.shape}, dest: {dest.shape}, equip: {equip.shape}, company: {company.shape}')\n",
    "\n"
   ]
  },
  {
   "cell_type": "markdown",
   "metadata": {},
   "source": [
    "### save the final data"
   ]
  },
  {
   "cell_type": "code",
   "execution_count": 45,
   "metadata": {},
   "outputs": [],
   "source": [
    "#save the data\n",
    "dest.to_csv('dataset/processed_data/destination.csv', index=False)\n",
    "orig.to_csv('dataset/processed_data/origin.csv', index=False)\n",
    "company.to_csv('dataset/processed_data/company.csv', index=False)\n",
    "equip.to_csv('dataset/processed_data/equipment.csv', index=False)\n",
    "line.to_csv('dataset/processed_ata/line.csv', index=False)\n",
    "flights2.to_csv('dataset/processed_data/flights.csv', index=False)"
   ]
  }
 ],
 "metadata": {
  "kernelspec": {
   "display_name": "base",
   "language": "python",
   "name": "python3"
  },
  "language_info": {
   "codemirror_mode": {
    "name": "ipython",
    "version": 3
   },
   "file_extension": ".py",
   "mimetype": "text/x-python",
   "name": "python",
   "nbconvert_exporter": "python",
   "pygments_lexer": "ipython3",
   "version": "3.11.5"
  }
 },
 "nbformat": 4,
 "nbformat_minor": 2
}
