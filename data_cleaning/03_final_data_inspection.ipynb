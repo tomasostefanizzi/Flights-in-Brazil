{
 "cells": [
  {
   "cell_type": "markdown",
   "metadata": {},
   "source": [
    "# Final Data Inspection\n",
    "Author(s): Tomaso Stefanizzi\n",
    "\n",
    "Description:\n",
    "The dataset used for this project contains a historical data about brazilian flights between 2000 until 2021.\n",
    "You can find the source \n",
    "[here](https://www.kaggle.com/datasets/mayconfelipemota/brazilian-data-flights).\n",
    "This notebook explores the cleaned data in the notebooks [1](01_data_inspection+cleaning.ipynb) and [2](02_data_cleaning.ipynb)."
   ]
  },
  {
   "cell_type": "markdown",
   "metadata": {},
   "source": [
    "## Imports"
   ]
  },
  {
   "cell_type": "code",
   "execution_count": 1,
   "metadata": {},
   "outputs": [],
   "source": [
    "#import libraries\n",
    "import pandas as pd\n",
    "import numpy as np\n",
    "import matplotlib.pyplot as plt\n",
    "import seaborn as sns\n",
    "import os as os"
   ]
  },
  {
   "cell_type": "markdown",
   "metadata": {},
   "source": [
    "### read data"
   ]
  },
  {
   "cell_type": "code",
   "execution_count": 2,
   "metadata": {},
   "outputs": [
    {
     "name": "stderr",
     "output_type": "stream",
     "text": [
      "C:\\Users\\tomas\\AppData\\Local\\Temp\\ipykernel_11724\\1309900485.py:15: DtypeWarning: Columns (3,5) have mixed types. Specify dtype option on import or set low_memory=False.\n",
      "  flights = pd.read_csv(flights_path)\n"
     ]
    }
   ],
   "source": [
    "# read the data\n",
    "dest_path = 'dataset/final_data/destination.csv'\n",
    "orig_path = 'dataset/final_data/origin.csv'\n",
    "company_path = 'dataset/final_data/company.csv'\n",
    "equip_path = 'dataset/final_data/equipment.csv'\n",
    "line_path = 'dataset/final_data/line.csv'\n",
    "flights_path = 'dataset/final_data/flights.csv'\n",
    "\n",
    "#read the data\n",
    "dest = pd.read_csv(dest_path)\n",
    "orig = pd.read_csv(orig_path)\n",
    "company = pd.read_csv(company_path)\n",
    "equip = pd.read_csv(equip_path)\n",
    "line = pd.read_csv(line_path)\n",
    "flights = pd.read_csv(flights_path)"
   ]
  },
  {
   "cell_type": "markdown",
   "metadata": {},
   "source": [
    "## Flights Analysis and further cleaning"
   ]
  },
  {
   "cell_type": "code",
   "execution_count": 3,
   "metadata": {},
   "outputs": [
    {
     "data": {
      "text/html": [
       "<div>\n",
       "<style scoped>\n",
       "    .dataframe tbody tr th:only-of-type {\n",
       "        vertical-align: middle;\n",
       "    }\n",
       "\n",
       "    .dataframe tbody tr th {\n",
       "        vertical-align: top;\n",
       "    }\n",
       "\n",
       "    .dataframe thead th {\n",
       "        text-align: right;\n",
       "    }\n",
       "</style>\n",
       "<table border=\"1\" class=\"dataframe\">\n",
       "  <thead>\n",
       "    <tr style=\"text-align: right;\">\n",
       "      <th></th>\n",
       "      <th>id_basica</th>\n",
       "      <th>id_empresa</th>\n",
       "      <th>nr_voo</th>\n",
       "      <th>nr_singular</th>\n",
       "      <th>id_di</th>\n",
       "      <th>cd_di</th>\n",
       "      <th>ds_di</th>\n",
       "      <th>ds_grupo_di</th>\n",
       "      <th>dt_referencia</th>\n",
       "      <th>nr_semana_referencia</th>\n",
       "      <th>...</th>\n",
       "      <th>nr_correio_km</th>\n",
       "      <th>nr_bagagem_paga_km</th>\n",
       "      <th>nr_bagagem_gratis_km</th>\n",
       "      <th>nr_ask</th>\n",
       "      <th>nr_rpk</th>\n",
       "      <th>nr_atk</th>\n",
       "      <th>nr_rtk</th>\n",
       "      <th>id_arquivo</th>\n",
       "      <th>nr_linha</th>\n",
       "      <th>dt_sistema</th>\n",
       "    </tr>\n",
       "  </thead>\n",
       "  <tbody>\n",
       "    <tr>\n",
       "      <th>0</th>\n",
       "      <td>19334640</td>\n",
       "      <td>1000711</td>\n",
       "      <td>5913</td>\n",
       "      <td>999</td>\n",
       "      <td>9</td>\n",
       "      <td>7</td>\n",
       "      <td>FRETAMENTO</td>\n",
       "      <td>NÃO REGULAR</td>\n",
       "      <td>2020-01-29</td>\n",
       "      <td>5</td>\n",
       "      <td>...</td>\n",
       "      <td>0.0</td>\n",
       "      <td>0.0</td>\n",
       "      <td>0.0</td>\n",
       "      <td>22464.0</td>\n",
       "      <td>18252.0</td>\n",
       "      <td>2323.0</td>\n",
       "      <td>1368.0</td>\n",
       "      <td>16069</td>\n",
       "      <td>69.0</td>\n",
       "      <td>2020-02-04T00:53:54</td>\n",
       "    </tr>\n",
       "    <tr>\n",
       "      <th>1</th>\n",
       "      <td>19334641</td>\n",
       "      <td>1000711</td>\n",
       "      <td>5913</td>\n",
       "      <td>999</td>\n",
       "      <td>9</td>\n",
       "      <td>7</td>\n",
       "      <td>FRETAMENTO</td>\n",
       "      <td>NÃO REGULAR</td>\n",
       "      <td>2020-01-29</td>\n",
       "      <td>5</td>\n",
       "      <td>...</td>\n",
       "      <td>0.0</td>\n",
       "      <td>0.0</td>\n",
       "      <td>0.0</td>\n",
       "      <td>22512.0</td>\n",
       "      <td>19698.0</td>\n",
       "      <td>2328.0</td>\n",
       "      <td>1477.0</td>\n",
       "      <td>16069</td>\n",
       "      <td>74.0</td>\n",
       "      <td>2020-02-04T00:53:54</td>\n",
       "    </tr>\n",
       "    <tr>\n",
       "      <th>2</th>\n",
       "      <td>19334642</td>\n",
       "      <td>1000711</td>\n",
       "      <td>5913</td>\n",
       "      <td>999</td>\n",
       "      <td>9</td>\n",
       "      <td>7</td>\n",
       "      <td>FRETAMENTO</td>\n",
       "      <td>NÃO REGULAR</td>\n",
       "      <td>2020-01-29</td>\n",
       "      <td>5</td>\n",
       "      <td>...</td>\n",
       "      <td>0.0</td>\n",
       "      <td>0.0</td>\n",
       "      <td>0.0</td>\n",
       "      <td>20640.0</td>\n",
       "      <td>18490.0</td>\n",
       "      <td>2134.0</td>\n",
       "      <td>1386.0</td>\n",
       "      <td>16069</td>\n",
       "      <td>72.0</td>\n",
       "      <td>2020-02-04T00:53:54</td>\n",
       "    </tr>\n",
       "    <tr>\n",
       "      <th>3</th>\n",
       "      <td>19334643</td>\n",
       "      <td>1000711</td>\n",
       "      <td>5964</td>\n",
       "      <td>999</td>\n",
       "      <td>9</td>\n",
       "      <td>7</td>\n",
       "      <td>FRETAMENTO</td>\n",
       "      <td>NÃO REGULAR</td>\n",
       "      <td>2020-01-08</td>\n",
       "      <td>2</td>\n",
       "      <td>...</td>\n",
       "      <td>0.0</td>\n",
       "      <td>0.0</td>\n",
       "      <td>0.0</td>\n",
       "      <td>17616.0</td>\n",
       "      <td>5138.0</td>\n",
       "      <td>1822.0</td>\n",
       "      <td>385.0</td>\n",
       "      <td>16069</td>\n",
       "      <td>208.0</td>\n",
       "      <td>2020-02-04T00:53:54</td>\n",
       "    </tr>\n",
       "    <tr>\n",
       "      <th>4</th>\n",
       "      <td>19334644</td>\n",
       "      <td>1000711</td>\n",
       "      <td>5962</td>\n",
       "      <td>999</td>\n",
       "      <td>9</td>\n",
       "      <td>7</td>\n",
       "      <td>FRETAMENTO</td>\n",
       "      <td>NÃO REGULAR</td>\n",
       "      <td>2020-01-02</td>\n",
       "      <td>1</td>\n",
       "      <td>...</td>\n",
       "      <td>0.0</td>\n",
       "      <td>0.0</td>\n",
       "      <td>0.0</td>\n",
       "      <td>22464.0</td>\n",
       "      <td>9828.0</td>\n",
       "      <td>2323.0</td>\n",
       "      <td>737.0</td>\n",
       "      <td>16069</td>\n",
       "      <td>147.0</td>\n",
       "      <td>2020-02-04T00:53:54</td>\n",
       "    </tr>\n",
       "  </tbody>\n",
       "</table>\n",
       "<p>5 rows × 52 columns</p>\n",
       "</div>"
      ],
      "text/plain": [
       "   id_basica  id_empresa  nr_voo nr_singular  id_di cd_di       ds_di  \\\n",
       "0   19334640     1000711    5913         999      9     7  FRETAMENTO   \n",
       "1   19334641     1000711    5913         999      9     7  FRETAMENTO   \n",
       "2   19334642     1000711    5913         999      9     7  FRETAMENTO   \n",
       "3   19334643     1000711    5964         999      9     7  FRETAMENTO   \n",
       "4   19334644     1000711    5962         999      9     7  FRETAMENTO   \n",
       "\n",
       "   ds_grupo_di dt_referencia  nr_semana_referencia  ...  nr_correio_km  \\\n",
       "0  NÃO REGULAR    2020-01-29                     5  ...            0.0   \n",
       "1  NÃO REGULAR    2020-01-29                     5  ...            0.0   \n",
       "2  NÃO REGULAR    2020-01-29                     5  ...            0.0   \n",
       "3  NÃO REGULAR    2020-01-08                     2  ...            0.0   \n",
       "4  NÃO REGULAR    2020-01-02                     1  ...            0.0   \n",
       "\n",
       "  nr_bagagem_paga_km nr_bagagem_gratis_km   nr_ask   nr_rpk  nr_atk  nr_rtk  \\\n",
       "0                0.0                  0.0  22464.0  18252.0  2323.0  1368.0   \n",
       "1                0.0                  0.0  22512.0  19698.0  2328.0  1477.0   \n",
       "2                0.0                  0.0  20640.0  18490.0  2134.0  1386.0   \n",
       "3                0.0                  0.0  17616.0   5138.0  1822.0   385.0   \n",
       "4                0.0                  0.0  22464.0   9828.0  2323.0   737.0   \n",
       "\n",
       "  id_arquivo nr_linha           dt_sistema  \n",
       "0      16069     69.0  2020-02-04T00:53:54  \n",
       "1      16069     74.0  2020-02-04T00:53:54  \n",
       "2      16069     72.0  2020-02-04T00:53:54  \n",
       "3      16069    208.0  2020-02-04T00:53:54  \n",
       "4      16069    147.0  2020-02-04T00:53:54  \n",
       "\n",
       "[5 rows x 52 columns]"
      ]
     },
     "execution_count": 3,
     "metadata": {},
     "output_type": "execute_result"
    }
   ],
   "source": [
    "flights.head()"
   ]
  },
  {
   "cell_type": "code",
   "execution_count": 5,
   "metadata": {},
   "outputs": [
    {
     "data": {
      "text/plain": [
       "Index(['id_basica', 'id_empresa', 'nr_voo', 'nr_singular', 'id_di', 'cd_di',\n",
       "       'ds_di', 'ds_grupo_di', 'dt_referencia', 'nr_semana_referencia',\n",
       "       'id_tipo_linha', 'ds_natureza_etapa', 'hr_partida_real',\n",
       "       'dt_partida_real', 'nr_semana_partida_real', 'id_aerodromo_origem',\n",
       "       'nr_etapa', 'hr_chegada_real', 'dt_chegada_real',\n",
       "       'nr_semana_chegada_real', 'id_equipamento', 'ds_modelo', 'ds_matricula',\n",
       "       'id_aerodromo_destino', 'lt_combustivel', 'nr_assentos_ofertados',\n",
       "       'kg_payload', 'km_distancia', 'nr_passag_pagos', 'nr_passag_gratis',\n",
       "       'kg_bagagem_livre', 'kg_bagagem_excesso', 'kg_carga_paga',\n",
       "       'kg_carga_gratis', 'kg_correio', 'nr_decolagem', 'nr_horas_voadas',\n",
       "       'kg_peso', 'nr_velocidade_media', 'nr_pax_gratis_km',\n",
       "       'nr_carga_paga_km', 'nr_carga_gratis_km', 'nr_correio_km',\n",
       "       'nr_bagagem_paga_km', 'nr_bagagem_gratis_km', 'nr_ask', 'nr_rpk',\n",
       "       'nr_atk', 'nr_rtk', 'id_arquivo', 'nr_linha', 'dt_sistema'],\n",
       "      dtype='object')"
      ]
     },
     "execution_count": 5,
     "metadata": {},
     "output_type": "execute_result"
    }
   ],
   "source": [
    "flights.columns"
   ]
  },
  {
   "cell_type": "code",
   "execution_count": 4,
   "metadata": {},
   "outputs": [
    {
     "name": "stdout",
     "output_type": "stream",
     "text": [
      "<class 'pandas.core.frame.DataFrame'>\n",
      "RangeIndex: 367029 entries, 0 to 367028\n",
      "Data columns (total 52 columns):\n",
      " #   Column                  Non-Null Count   Dtype  \n",
      "---  ------                  --------------   -----  \n",
      " 0   id_basica               367029 non-null  int64  \n",
      " 1   id_empresa              367029 non-null  int64  \n",
      " 2   nr_voo                  367029 non-null  int64  \n",
      " 3   nr_singular             367029 non-null  object \n",
      " 4   id_di                   367029 non-null  int64  \n",
      " 5   cd_di                   367029 non-null  object \n",
      " 6   ds_di                   367029 non-null  object \n",
      " 7   ds_grupo_di             367029 non-null  object \n",
      " 8   dt_referencia           367029 non-null  object \n",
      " 9   nr_semana_referencia    367029 non-null  int64  \n",
      " 10  id_tipo_linha           367029 non-null  int64  \n",
      " 11  ds_natureza_etapa       367029 non-null  object \n",
      " 12  hr_partida_real         367029 non-null  object \n",
      " 13  dt_partida_real         367029 non-null  object \n",
      " 14  nr_semana_partida_real  367029 non-null  float64\n",
      " 15  id_aerodromo_origem     367029 non-null  int64  \n",
      " 16  nr_etapa                367029 non-null  int64  \n",
      " 17  hr_chegada_real         367029 non-null  object \n",
      " 18  dt_chegada_real         367029 non-null  object \n",
      " 19  nr_semana_chegada_real  367029 non-null  float64\n",
      " 20  id_equipamento          367029 non-null  int64  \n",
      " 21  ds_modelo               367029 non-null  object \n",
      " 22  ds_matricula            367029 non-null  object \n",
      " 23  id_aerodromo_destino    367029 non-null  int64  \n",
      " 24  lt_combustivel          367029 non-null  float64\n",
      " 25  nr_assentos_ofertados   367029 non-null  float64\n",
      " 26  kg_payload              367029 non-null  float64\n",
      " 27  km_distancia            367029 non-null  float64\n",
      " 28  nr_passag_pagos         367029 non-null  float64\n",
      " 29  nr_passag_gratis        367029 non-null  float64\n",
      " 30  kg_bagagem_livre        367029 non-null  float64\n",
      " 31  kg_bagagem_excesso      367029 non-null  float64\n",
      " 32  kg_carga_paga           367029 non-null  float64\n",
      " 33  kg_carga_gratis         367029 non-null  float64\n",
      " 34  kg_correio              367029 non-null  float64\n",
      " 35  nr_decolagem            367029 non-null  int64  \n",
      " 36  nr_horas_voadas         367029 non-null  float64\n",
      " 37  kg_peso                 367029 non-null  float64\n",
      " 38  nr_velocidade_media     367029 non-null  float64\n",
      " 39  nr_pax_gratis_km        367029 non-null  float64\n",
      " 40  nr_carga_paga_km        367029 non-null  float64\n",
      " 41  nr_carga_gratis_km      367029 non-null  float64\n",
      " 42  nr_correio_km           367029 non-null  float64\n",
      " 43  nr_bagagem_paga_km      367029 non-null  float64\n",
      " 44  nr_bagagem_gratis_km    367029 non-null  float64\n",
      " 45  nr_ask                  367029 non-null  float64\n",
      " 46  nr_rpk                  367029 non-null  float64\n",
      " 47  nr_atk                  367029 non-null  float64\n",
      " 48  nr_rtk                  367029 non-null  float64\n",
      " 49  id_arquivo              367029 non-null  int64  \n",
      " 50  nr_linha                367029 non-null  float64\n",
      " 51  dt_sistema              367029 non-null  object \n",
      "dtypes: float64(27), int64(12), object(13)\n",
      "memory usage: 145.6+ MB\n"
     ]
    }
   ],
   "source": [
    "flights.info()"
   ]
  },
  {
   "cell_type": "code",
   "execution_count": 17,
   "metadata": {},
   "outputs": [],
   "source": [
    "#drop the id_arquivo column\n",
    "flights.drop('id_arquivo', axis=1, inplace=True)"
   ]
  },
  {
   "cell_type": "code",
   "execution_count": 18,
   "metadata": {},
   "outputs": [
    {
     "data": {
      "text/plain": [
       "dt_sistema\n",
       "2020-06-17T00:50:38    49712\n",
       "2020-11-12T00:51:19    33785\n",
       "2020-04-08T00:52:29    32350\n",
       "2020-02-12T00:53:36    25657\n",
       "2020-02-13T00:53:34    23552\n",
       "                       ...  \n",
       "2020-07-02T00:50:13       90\n",
       "2020-05-07T00:50:13       88\n",
       "2020-09-11T00:48:10       21\n",
       "2020-05-22T00:50:23        1\n",
       "2020-09-09T00:48:14        1\n",
       "Name: count, Length: 64, dtype: int64"
      ]
     },
     "execution_count": 18,
     "metadata": {},
     "output_type": "execute_result"
    }
   ],
   "source": [
    "flights.dt_sistema.value_counts(sort=True)"
   ]
  },
  {
   "cell_type": "markdown",
   "metadata": {},
   "source": []
  },
  {
   "cell_type": "code",
   "execution_count": 19,
   "metadata": {},
   "outputs": [
    {
     "data": {
      "text/plain": [
       "nr_assentos_ofertados\n",
       "186.0    68044\n",
       "174.0    55408\n",
       "118.0    42179\n",
       "138.0    33004\n",
       "70.0     21910\n",
       "         ...  \n",
       "272.0        1\n",
       "237.0        1\n",
       "245.0        1\n",
       "259.0        1\n",
       "121.0        1\n",
       "Name: count, Length: 179, dtype: int64"
      ]
     },
     "execution_count": 19,
     "metadata": {},
     "output_type": "execute_result"
    }
   ],
   "source": [
    "flights.nr_assentos_ofertados.value_counts(sort=True)"
   ]
  },
  {
   "cell_type": "code",
   "execution_count": 20,
   "metadata": {},
   "outputs": [
    {
     "data": {
      "text/plain": [
       "<Axes: >"
      ]
     },
     "execution_count": 20,
     "metadata": {},
     "output_type": "execute_result"
    },
    {
     "data": {
      "image/png": "[encoded data removed]",
      "text/plain": [
       "<Figure size 640x480 with 1 Axes>"
      ]
     },
     "metadata": {},
     "output_type": "display_data"
    }
   ],
   "source": [
    "#plot the histogram of the nr_assentos_ofertados\n",
    "flights.nr_assentos_ofertados.hist(bins=50)"
   ]
  },
  {
   "cell_type": "code",
   "execution_count": 33,
   "metadata": {},
   "outputs": [
    {
     "name": "stdout",
     "output_type": "stream",
     "text": [
      "mean 146.8979808135052\n",
      "median 168.0\n"
     ]
    }
   ],
   "source": [
    "#do the average of the nr_assentos_ofertados\n",
    "print(f'mean {flights.nr_assentos_ofertados.mean()}')\n",
    "\n",
    "#do the median of the nr_assentos_ofertados\n",
    "print(f'median {flights.nr_assentos_ofertados.median()}')"
   ]
  },
  {
   "cell_type": "code",
   "execution_count": 34,
   "metadata": {},
   "outputs": [
    {
     "data": {
      "text/plain": [
       "array(['AEROSPATIALE/ALENIA ATR 42-500', 'BOEING 737-400',\n",
       "       'BOEING 737-300', 'CESSNA 208 CARAVAN',\n",
       "       'AEROSPATIALE/ALENIA ATR 72 201/202', 'BOEING 727-200',\n",
       "       'AEROSPATIALE/ALENIA ATR 42-300 / 320', 'BOEING 737-800',\n",
       "       'BOEING 737-700', 'AIRBUS A321-100/200', 'AIRBUS A319',\n",
       "       'AIRBUS A320-100/200', 'BOEING 767-300', 'AIRBUS A350-900',\n",
       "       'BOEING 777-300ER PAX', 'EMBRAER 195/ERJ-190-200',\n",
       "       'AIRBUS A330-200', 'EMBRAER E195-E2/ERJ-190-400',\n",
       "       'EMBRAER 190/ERJ-190-100', 'AIRBUS A330-900NEO', 'AIRBUS A321NEO',\n",
       "       'BOEING 737 MAX 8'], dtype=object)"
      ]
     },
     "execution_count": 34,
     "metadata": {},
     "output_type": "execute_result"
    }
   ],
   "source": [
    "flights.ds_modelo.unique()"
   ]
  },
  {
   "cell_type": "code",
   "execution_count": 35,
   "metadata": {},
   "outputs": [
    {
     "data": {
      "text/plain": [
       "['id_basica',\n",
       " 'id_empresa',\n",
       " 'nr_voo',\n",
       " 'nr_singular',\n",
       " 'id_di',\n",
       " 'cd_di',\n",
       " 'ds_di',\n",
       " 'ds_grupo_di',\n",
       " 'dt_referencia',\n",
       " 'nr_semana_referencia',\n",
       " 'id_tipo_linha',\n",
       " 'ds_natureza_etapa',\n",
       " 'hr_partida_real',\n",
       " 'dt_partida_real',\n",
       " 'nr_semana_partida_real',\n",
       " 'id_aerodromo_origem',\n",
       " 'nr_etapa',\n",
       " 'hr_chegada_real',\n",
       " 'dt_chegada_real',\n",
       " 'nr_semana_chegada_real',\n",
       " 'id_equipamento',\n",
       " 'ds_modelo',\n",
       " 'ds_matricula',\n",
       " 'id_aerodromo_destino',\n",
       " 'lt_combustivel',\n",
       " 'nr_assentos_ofertados',\n",
       " 'kg_payload',\n",
       " 'km_distancia',\n",
       " 'nr_passag_pagos',\n",
       " 'nr_passag_gratis',\n",
       " 'kg_bagagem_livre',\n",
       " 'kg_bagagem_excesso',\n",
       " 'kg_carga_paga',\n",
       " 'kg_carga_gratis',\n",
       " 'kg_correio',\n",
       " 'nr_decolagem',\n",
       " 'nr_horas_voadas',\n",
       " 'kg_peso',\n",
       " 'nr_velocidade_media',\n",
       " 'nr_pax_gratis_km',\n",
       " 'nr_carga_paga_km',\n",
       " 'nr_carga_gratis_km',\n",
       " 'nr_correio_km',\n",
       " 'nr_bagagem_paga_km',\n",
       " 'nr_bagagem_gratis_km',\n",
       " 'nr_ask',\n",
       " 'nr_rpk',\n",
       " 'nr_atk',\n",
       " 'nr_rtk',\n",
       " 'nr_linha',\n",
       " 'dt_sistema']"
      ]
     },
     "execution_count": 35,
     "metadata": {},
     "output_type": "execute_result"
    }
   ],
   "source": [
    "flights.columns.tolist()"
   ]
  },
  {
   "cell_type": "markdown",
   "metadata": {},
   "source": [
    "### some plots"
   ]
  },
  {
   "cell_type": "code",
   "execution_count": 40,
   "metadata": {},
   "outputs": [
    {
     "data": {
      "text/plain": [
       "<Axes: >"
      ]
     },
     "execution_count": 40,
     "metadata": {},
     "output_type": "execute_result"
    },
    {
     "data": {
      "image/png": "[encoded data removed]",
      "text/plain": [
       "<Figure size 640x480 with 1 Axes>"
      ]
     },
     "metadata": {},
     "output_type": "display_data"
    }
   ],
   "source": [
    "#plot the histogram of the nr_velocidade_media in a x range beteen 0 and 1000\n",
    "flights.nr_velocidade_media.hist(bins=50, range=(0,1000))"
   ]
  },
  {
   "cell_type": "code",
   "execution_count": 59,
   "metadata": {},
   "outputs": [
    {
     "data": {
      "text/plain": [
       "<Axes: >"
      ]
     },
     "execution_count": 59,
     "metadata": {},
     "output_type": "execute_result"
    },
    {
     "data": {
      "image/png": "[encoded data removed]",
      "text/plain": [
       "<Figure size 640x480 with 1 Axes>"
      ]
     },
     "metadata": {},
     "output_type": "display_data"
    }
   ],
   "source": [
    "flights.nr_horas_voadas.hist(bins=50, range=(0,13))"
   ]
  },
  {
   "cell_type": "code",
   "execution_count": 67,
   "metadata": {},
   "outputs": [
    {
     "data": {
      "text/plain": [
       "<Axes: >"
      ]
     },
     "execution_count": 67,
     "metadata": {},
     "output_type": "execute_result"
    },
    {
     "data": {
      "image/png": "[encoded data removed]",
      "text/plain": [
       "<Figure size 640x480 with 1 Axes>"
      ]
     },
     "metadata": {},
     "output_type": "display_data"
    }
   ],
   "source": [
    "flights.km_distancia.hist(bins=50, range=(0,10000))"
   ]
  },
  {
   "cell_type": "code",
   "execution_count": 68,
   "metadata": {},
   "outputs": [
    {
     "data": {
      "text/plain": [
       "<Axes: >"
      ]
     },
     "execution_count": 68,
     "metadata": {},
     "output_type": "execute_result"
    },
    {
     "data": {
      "image/png": "[encoded data removed]",
      "text/plain": [
       "<Figure size 640x480 with 1 Axes>"
      ]
     },
     "metadata": {},
     "output_type": "display_data"
    }
   ],
   "source": [
    "flights.kg_payload.hist(bins=50, range=(0,100000))"
   ]
  },
  {
   "cell_type": "code",
   "execution_count": 69,
   "metadata": {},
   "outputs": [
    {
     "data": {
      "text/plain": [
       "<Axes: >"
      ]
     },
     "execution_count": 69,
     "metadata": {},
     "output_type": "execute_result"
    },
    {
     "data": {
      "image/png": "[encoded data removed]",
      "text/plain": [
       "<Figure size 640x480 with 1 Axes>"
      ]
     },
     "metadata": {},
     "output_type": "display_data"
    }
   ],
   "source": [
    "flights.nr_assentos_ofertados.hist(bins=50, range=(0,500))"
   ]
  },
  {
   "cell_type": "code",
   "execution_count": 76,
   "metadata": {},
   "outputs": [
    {
     "data": {
      "text/plain": [
       "<Axes: >"
      ]
     },
     "execution_count": 76,
     "metadata": {},
     "output_type": "execute_result"
    },
    {
     "data": {
      "image/png": "[encoded data removed]",
      "text/plain": [
       "<Figure size 640x480 with 1 Axes>"
      ]
     },
     "metadata": {},
     "output_type": "display_data"
    }
   ],
   "source": [
    "flights.lt_combustivel.hist(bins=50, range=(0,20000))"
   ]
  },
  {
   "cell_type": "code",
   "execution_count": 77,
   "metadata": {},
   "outputs": [
    {
     "data": {
      "text/plain": [
       "ds_natureza_etapa\n",
       "DOMÉSTICA        350191\n",
       "INTERNACIONAL     16838\n",
       "Name: count, dtype: int64"
      ]
     },
     "execution_count": 77,
     "metadata": {},
     "output_type": "execute_result"
    }
   ],
   "source": [
    "flights.ds_natureza_etapa.value_counts(sort=True)"
   ]
  },
  {
   "cell_type": "markdown",
   "metadata": {},
   "source": [
    "#### removing unuseful-incomplete columns"
   ]
  },
  {
   "cell_type": "code",
   "execution_count": 80,
   "metadata": {},
   "outputs": [],
   "source": [
    "flights.drop(['dt_sistema','nr_ask','nr_rpk','nr_atk','nr_rtk','nr_pax_gratis_km','nr_carga_paga_km','nr_carga_gratis_km',\n",
    "              'nr_correio_km','nr_bagagem_paga_km','nr_bagagem_gratis_km','kg_peso','nr_decolagem','kg_correio',\n",
    "              'kg_carga_paga','kg_carga_gratis','kg_bagagem_livre','kg_bagagem_excesso','nr_passag_pagos','nr_passag_gratis', \n",
    "              'nr_etapa','dt_referencia','nr_semana_referencia', 'id_di','cd_di','ds_di','ds_grupo_di','nr_singular','nr_voo'],axis=1, inplace=True)"
   ]
  },
  {
   "cell_type": "code",
   "execution_count": 81,
   "metadata": {},
   "outputs": [
    {
     "name": "stdout",
     "output_type": "stream",
     "text": [
      "<class 'pandas.core.frame.DataFrame'>\n",
      "RangeIndex: 367029 entries, 0 to 367028\n",
      "Data columns (total 22 columns):\n",
      " #   Column                  Non-Null Count   Dtype  \n",
      "---  ------                  --------------   -----  \n",
      " 0   id_basica               367029 non-null  int64  \n",
      " 1   id_empresa              367029 non-null  int64  \n",
      " 2   id_tipo_linha           367029 non-null  int64  \n",
      " 3   ds_natureza_etapa       367029 non-null  object \n",
      " 4   hr_partida_real         367029 non-null  object \n",
      " 5   dt_partida_real         367029 non-null  object \n",
      " 6   nr_semana_partida_real  367029 non-null  float64\n",
      " 7   id_aerodromo_origem     367029 non-null  int64  \n",
      " 8   hr_chegada_real         367029 non-null  object \n",
      " 9   dt_chegada_real         367029 non-null  object \n",
      " 10  nr_semana_chegada_real  367029 non-null  float64\n",
      " 11  id_equipamento          367029 non-null  int64  \n",
      " 12  ds_modelo               367029 non-null  object \n",
      " 13  ds_matricula            367029 non-null  object \n",
      " 14  id_aerodromo_destino    367029 non-null  int64  \n",
      " 15  lt_combustivel          367029 non-null  float64\n",
      " 16  nr_assentos_ofertados   367029 non-null  float64\n",
      " 17  kg_payload              367029 non-null  float64\n",
      " 18  km_distancia            367029 non-null  float64\n",
      " 19  nr_horas_voadas         367029 non-null  float64\n",
      " 20  nr_velocidade_media     367029 non-null  float64\n",
      " 21  nr_linha                367029 non-null  float64\n",
      "dtypes: float64(9), int64(6), object(7)\n",
      "memory usage: 61.6+ MB\n"
     ]
    }
   ],
   "source": [
    "flights.info()"
   ]
  },
  {
   "cell_type": "code",
   "execution_count": 195,
   "metadata": {},
   "outputs": [
    {
     "data": {
      "text/plain": [
       "nr_velocidade_media\n",
       "365.63    831\n",
       "391.75    758\n",
       "371.83    725\n",
       "378.24    708\n",
       "359.64    706\n",
       "         ... \n",
       "776.97      1\n",
       "364.28      1\n",
       "553.14      1\n",
       "817.78      1\n",
       "408.26      1\n",
       "Name: count, Length: 21783, dtype: int64"
      ]
     },
     "execution_count": 195,
     "metadata": {},
     "output_type": "execute_result"
    }
   ],
   "source": [
    "flights.nr_velocidade_media.value_counts(sort=True)"
   ]
  },
  {
   "cell_type": "markdown",
   "metadata": {},
   "source": [
    "## Origin Analysis"
   ]
  },
  {
   "cell_type": "code",
   "execution_count": 82,
   "metadata": {},
   "outputs": [
    {
     "data": {
      "text/html": [
       "<div>\n",
       "<style scoped>\n",
       "    .dataframe tbody tr th:only-of-type {\n",
       "        vertical-align: middle;\n",
       "    }\n",
       "\n",
       "    .dataframe tbody tr th {\n",
       "        vertical-align: top;\n",
       "    }\n",
       "\n",
       "    .dataframe thead th {\n",
       "        text-align: right;\n",
       "    }\n",
       "</style>\n",
       "<table border=\"1\" class=\"dataframe\">\n",
       "  <thead>\n",
       "    <tr style=\"text-align: right;\">\n",
       "      <th></th>\n",
       "      <th>id_aerodromo_origem</th>\n",
       "      <th>sg_icao_origem</th>\n",
       "      <th>sg_iata_origem</th>\n",
       "      <th>nm_aerodromo_origem</th>\n",
       "      <th>nm_municipio_origem</th>\n",
       "      <th>nm_pais_origem</th>\n",
       "      <th>nm_continente_origem</th>\n",
       "    </tr>\n",
       "  </thead>\n",
       "  <tbody>\n",
       "    <tr>\n",
       "      <th>0</th>\n",
       "      <td>1</td>\n",
       "      <td>OMAA</td>\n",
       "      <td>AUH</td>\n",
       "      <td>AB DHABI INTERNATIONAL</td>\n",
       "      <td>AB DHABI INTERNATIONAL</td>\n",
       "      <td>EMIRADOS ÁRABES UNIDOS</td>\n",
       "      <td>ÁSIA</td>\n",
       "    </tr>\n",
       "    <tr>\n",
       "      <th>1</th>\n",
       "      <td>4</td>\n",
       "      <td>MMAA</td>\n",
       "      <td>ACA</td>\n",
       "      <td>GENERAL JUAN N. ÁLVAREZ INTERNATIONAL AIRPORT</td>\n",
       "      <td>ACAPULCO/GEN.JUAN ALVAREZ</td>\n",
       "      <td>MÉXICO</td>\n",
       "      <td>AMÉRICA DO NORTE</td>\n",
       "    </tr>\n",
       "    <tr>\n",
       "      <th>2</th>\n",
       "      <td>10</td>\n",
       "      <td>SWHP</td>\n",
       "      <td>GGB</td>\n",
       "      <td>OLHOS D´ÁGUA</td>\n",
       "      <td>ÁGUA BOA</td>\n",
       "      <td>BRASIL</td>\n",
       "      <td>AMÉRICA DO SUL</td>\n",
       "    </tr>\n",
       "    <tr>\n",
       "      <th>3</th>\n",
       "      <td>16</td>\n",
       "      <td>SBMD</td>\n",
       "      <td>MEU</td>\n",
       "      <td>MONTE DOURADO</td>\n",
       "      <td>ALMEIRIM</td>\n",
       "      <td>BRASIL</td>\n",
       "      <td>AMÉRICA DO SUL</td>\n",
       "    </tr>\n",
       "    <tr>\n",
       "      <th>4</th>\n",
       "      <td>17</td>\n",
       "      <td>SNYA</td>\n",
       "      <td>GGF</td>\n",
       "      <td>ALMEIRIM</td>\n",
       "      <td>ALMEIRIM</td>\n",
       "      <td>BRASIL</td>\n",
       "      <td>AMÉRICA DO SUL</td>\n",
       "    </tr>\n",
       "  </tbody>\n",
       "</table>\n",
       "</div>"
      ],
      "text/plain": [
       "   id_aerodromo_origem sg_icao_origem sg_iata_origem  \\\n",
       "0                    1           OMAA            AUH   \n",
       "1                    4           MMAA            ACA   \n",
       "2                   10           SWHP            GGB   \n",
       "3                   16           SBMD            MEU   \n",
       "4                   17           SNYA            GGF   \n",
       "\n",
       "                             nm_aerodromo_origem        nm_municipio_origem  \\\n",
       "0                         AB DHABI INTERNATIONAL     AB DHABI INTERNATIONAL   \n",
       "1  GENERAL JUAN N. ÁLVAREZ INTERNATIONAL AIRPORT  ACAPULCO/GEN.JUAN ALVAREZ   \n",
       "2                                   OLHOS D´ÁGUA                   ÁGUA BOA   \n",
       "3                                  MONTE DOURADO                   ALMEIRIM   \n",
       "4                                       ALMEIRIM                   ALMEIRIM   \n",
       "\n",
       "           nm_pais_origem nm_continente_origem  \n",
       "0  EMIRADOS ÁRABES UNIDOS                 ÁSIA  \n",
       "1                  MÉXICO     AMÉRICA DO NORTE  \n",
       "2                  BRASIL       AMÉRICA DO SUL  \n",
       "3                  BRASIL       AMÉRICA DO SUL  \n",
       "4                  BRASIL       AMÉRICA DO SUL  "
      ]
     },
     "execution_count": 82,
     "metadata": {},
     "output_type": "execute_result"
    }
   ],
   "source": [
    "orig.head()"
   ]
  },
  {
   "cell_type": "markdown",
   "metadata": {},
   "source": [
    "nothing to do here"
   ]
  },
  {
   "cell_type": "markdown",
   "metadata": {},
   "source": [
    "## Destination Analysis"
   ]
  },
  {
   "cell_type": "code",
   "execution_count": 83,
   "metadata": {},
   "outputs": [
    {
     "data": {
      "text/html": [
       "<div>\n",
       "<style scoped>\n",
       "    .dataframe tbody tr th:only-of-type {\n",
       "        vertical-align: middle;\n",
       "    }\n",
       "\n",
       "    .dataframe tbody tr th {\n",
       "        vertical-align: top;\n",
       "    }\n",
       "\n",
       "    .dataframe thead th {\n",
       "        text-align: right;\n",
       "    }\n",
       "</style>\n",
       "<table border=\"1\" class=\"dataframe\">\n",
       "  <thead>\n",
       "    <tr style=\"text-align: right;\">\n",
       "      <th></th>\n",
       "      <th>id_aerodromo_destino</th>\n",
       "      <th>sg_icao_destino</th>\n",
       "      <th>sg_iata_destino</th>\n",
       "      <th>nm_aerodromo_destino</th>\n",
       "      <th>nm_municipio_destino</th>\n",
       "      <th>nm_pais_destino</th>\n",
       "      <th>nm_continente_destino</th>\n",
       "    </tr>\n",
       "  </thead>\n",
       "  <tbody>\n",
       "    <tr>\n",
       "      <th>0</th>\n",
       "      <td>162</td>\n",
       "      <td>SBKP</td>\n",
       "      <td>VCP</td>\n",
       "      <td>VIRACOPOS</td>\n",
       "      <td>CAMPINAS</td>\n",
       "      <td>BRASIL</td>\n",
       "      <td>AMÉRICA DO SUL</td>\n",
       "    </tr>\n",
       "    <tr>\n",
       "      <th>1</th>\n",
       "      <td>275</td>\n",
       "      <td>EDDF</td>\n",
       "      <td>FRA</td>\n",
       "      <td>FRANKFURT INTERNATIONAL AIRPORT</td>\n",
       "      <td>FRANKFURT AM MAIN</td>\n",
       "      <td>ALEMANHA</td>\n",
       "      <td>EUROPA</td>\n",
       "    </tr>\n",
       "    <tr>\n",
       "      <th>2</th>\n",
       "      <td>467</td>\n",
       "      <td>KMIA</td>\n",
       "      <td>MIA</td>\n",
       "      <td>MIAMI INTERNATIONAL AIRPORT</td>\n",
       "      <td>MIAMI, FLORIDA</td>\n",
       "      <td>ESTADOS UNIDOS DA AMÉRICA</td>\n",
       "      <td>AMÉRICA DO NORTE</td>\n",
       "    </tr>\n",
       "    <tr>\n",
       "      <th>3</th>\n",
       "      <td>626</td>\n",
       "      <td>SBGL</td>\n",
       "      <td>GIG</td>\n",
       "      <td>AEROPORTO INTERNACIONAL DO RIO DE JANEIRO (GAL...</td>\n",
       "      <td>RIO DE JANEIRO</td>\n",
       "      <td>BRASIL</td>\n",
       "      <td>AMÉRICA DO SUL</td>\n",
       "    </tr>\n",
       "    <tr>\n",
       "      <th>4</th>\n",
       "      <td>500</td>\n",
       "      <td>KJFK</td>\n",
       "      <td>JFK</td>\n",
       "      <td>JOHN F. KENNEDY INTERNATIONAL AIRPORT</td>\n",
       "      <td>NEW YORK, NEW YORK</td>\n",
       "      <td>ESTADOS UNIDOS DA AMÉRICA</td>\n",
       "      <td>AMÉRICA DO NORTE</td>\n",
       "    </tr>\n",
       "  </tbody>\n",
       "</table>\n",
       "</div>"
      ],
      "text/plain": [
       "   id_aerodromo_destino sg_icao_destino sg_iata_destino  \\\n",
       "0                   162            SBKP             VCP   \n",
       "1                   275            EDDF             FRA   \n",
       "2                   467            KMIA             MIA   \n",
       "3                   626            SBGL             GIG   \n",
       "4                   500            KJFK             JFK   \n",
       "\n",
       "                                nm_aerodromo_destino nm_municipio_destino  \\\n",
       "0                                          VIRACOPOS             CAMPINAS   \n",
       "1                    FRANKFURT INTERNATIONAL AIRPORT    FRANKFURT AM MAIN   \n",
       "2                        MIAMI INTERNATIONAL AIRPORT       MIAMI, FLORIDA   \n",
       "3  AEROPORTO INTERNACIONAL DO RIO DE JANEIRO (GAL...       RIO DE JANEIRO   \n",
       "4              JOHN F. KENNEDY INTERNATIONAL AIRPORT   NEW YORK, NEW YORK   \n",
       "\n",
       "             nm_pais_destino nm_continente_destino  \n",
       "0                     BRASIL        AMÉRICA DO SUL  \n",
       "1                   ALEMANHA                EUROPA  \n",
       "2  ESTADOS UNIDOS DA AMÉRICA      AMÉRICA DO NORTE  \n",
       "3                     BRASIL        AMÉRICA DO SUL  \n",
       "4  ESTADOS UNIDOS DA AMÉRICA      AMÉRICA DO NORTE  "
      ]
     },
     "execution_count": 83,
     "metadata": {},
     "output_type": "execute_result"
    }
   ],
   "source": [
    "dest.head()"
   ]
  },
  {
   "cell_type": "code",
   "execution_count": 84,
   "metadata": {},
   "outputs": [
    {
     "data": {
      "text/plain": [
       "0    VCP\n",
       "Name: sg_iata_destino, dtype: object"
      ]
     },
     "execution_count": 84,
     "metadata": {},
     "output_type": "execute_result"
    }
   ],
   "source": [
    "dest[dest['id_aerodromo_destino'] == 162]['sg_iata_destino']"
   ]
  },
  {
   "cell_type": "code",
   "execution_count": 85,
   "metadata": {},
   "outputs": [
    {
     "data": {
      "text/plain": [
       "42    VCP\n",
       "Name: sg_iata_origem, dtype: object"
      ]
     },
     "execution_count": 85,
     "metadata": {},
     "output_type": "execute_result"
    }
   ],
   "source": [
    "orig[orig['id_aerodromo_origem'] == 162]['sg_iata_origem']"
   ]
  },
  {
   "cell_type": "markdown",
   "metadata": {},
   "source": [
    "## Airports table creation"
   ]
  },
  {
   "cell_type": "markdown",
   "metadata": {},
   "source": [
    "now that I think about it, it doesn't make sense to have different tables for origin and destinations, as in the Flights table we can identify it by the iata code. for this reason, I'm going to merge these tables (through an outer join) in just one, called airports."
   ]
  },
  {
   "cell_type": "code",
   "execution_count": 158,
   "metadata": {},
   "outputs": [],
   "source": [
    "\n",
    "merged = pd.DataFrame()\n",
    "merged = orig.merge(dest, left_on='id_aerodromo_origem', right_on='id_aerodromo_destino', how='outer')\n",
    "\n",
    "# Create a new column 'id_aerodromo' that combines the values from both columns\n",
    "merged['id_aerodromo'] = merged['id_aerodromo_origem'].combine_first(merged['id_aerodromo_destino'])\n",
    "# Get the column names\n",
    "columns = set(orig.columns).intersection(set(dest.columns))\n",
    "\n",
    "# For each column name\n",
    "for col in columns:\n",
    "    # Create a new column in merged that combines the values from the corresponding columns in orig and dest\n",
    "    merged[col] = merged[col + '_origem'].combine_first(merged[col + '_destino'])\n",
    "    \n",
    "    # Drop the original columns\n",
    "    merged = merged.drop(columns=[col + '_origem', col + '_destino'])"
   ]
  },
  {
   "cell_type": "code",
   "execution_count": 164,
   "metadata": {},
   "outputs": [],
   "source": [
    "# Rename the columns in orig and dest\n",
    "orig.columns = [col.replace('_origem', '') for col in orig.columns]\n",
    "dest.columns = [col.replace('_destino', '') for col in dest.columns]\n",
    "\n",
    "merged = pd.merge(orig, dest, how='outer')"
   ]
  },
  {
   "cell_type": "markdown",
   "metadata": {},
   "source": [
    "let's check if it works (i know that id_aerodromo 5 is just in one of the two tables)"
   ]
  },
  {
   "cell_type": "code",
   "execution_count": 165,
   "metadata": {},
   "outputs": [
    {
     "data": {
      "text/html": [
       "<div>\n",
       "<style scoped>\n",
       "    .dataframe tbody tr th:only-of-type {\n",
       "        vertical-align: middle;\n",
       "    }\n",
       "\n",
       "    .dataframe tbody tr th {\n",
       "        vertical-align: top;\n",
       "    }\n",
       "\n",
       "    .dataframe thead th {\n",
       "        text-align: right;\n",
       "    }\n",
       "</style>\n",
       "<table border=\"1\" class=\"dataframe\">\n",
       "  <thead>\n",
       "    <tr style=\"text-align: right;\">\n",
       "      <th></th>\n",
       "      <th>id_aerodromo</th>\n",
       "      <th>sg_icao</th>\n",
       "      <th>sg_iata</th>\n",
       "      <th>nm_aerodromo</th>\n",
       "      <th>nm_municipio</th>\n",
       "      <th>nm_pais</th>\n",
       "      <th>nm_continente</th>\n",
       "    </tr>\n",
       "  </thead>\n",
       "  <tbody>\n",
       "    <tr>\n",
       "      <th>249</th>\n",
       "      <td>5</td>\n",
       "      <td>DGAA</td>\n",
       "      <td>ACC</td>\n",
       "      <td>KOTOKA INTERNATIONAL AIRPORT</td>\n",
       "      <td>ACCRA</td>\n",
       "      <td>GANA</td>\n",
       "      <td>ÁFRICA</td>\n",
       "    </tr>\n",
       "  </tbody>\n",
       "</table>\n",
       "</div>"
      ],
      "text/plain": [
       "     id_aerodromo sg_icao sg_iata                  nm_aerodromo nm_municipio  \\\n",
       "249             5    DGAA     ACC  KOTOKA INTERNATIONAL AIRPORT        ACCRA   \n",
       "\n",
       "    nm_pais nm_continente  \n",
       "249    GANA        ÁFRICA  "
      ]
     },
     "execution_count": 165,
     "metadata": {},
     "output_type": "execute_result"
    }
   ],
   "source": [
    "merged[merged['id_aerodromo'] == 5]"
   ]
  },
  {
   "cell_type": "markdown",
   "metadata": {},
   "source": [
    "it looks right :)"
   ]
  },
  {
   "cell_type": "markdown",
   "metadata": {},
   "source": [
    "let's just check that all the id_aerodromo are preserved:"
   ]
  },
  {
   "cell_type": "code",
   "execution_count": 169,
   "metadata": {},
   "outputs": [
    {
     "data": {
      "text/plain": [
       "True"
      ]
     },
     "execution_count": 169,
     "metadata": {},
     "output_type": "execute_result"
    }
   ],
   "source": [
    "check = orig['id_aerodromo'].unique().tolist()\n",
    "check += dest['id_aerodromo'].unique().tolist()\n",
    "#remove the duplicates from the list\n",
    "check = set(check)\n",
    "check == set(merged['id_aerodromo'].unique().tolist())"
   ]
  },
  {
   "cell_type": "code",
   "execution_count": 171,
   "metadata": {},
   "outputs": [
    {
     "data": {
      "text/plain": [
       "True"
      ]
     },
     "execution_count": 171,
     "metadata": {},
     "output_type": "execute_result"
    }
   ],
   "source": [
    "check == set(flights['id_aerodromo_origem'].unique().tolist() + flights['id_aerodromo_destino'].unique().tolist())"
   ]
  },
  {
   "cell_type": "markdown",
   "metadata": {},
   "source": [
    "done!"
   ]
  },
  {
   "cell_type": "markdown",
   "metadata": {},
   "source": [
    "## Line Analysis"
   ]
  },
  {
   "cell_type": "code",
   "execution_count": 172,
   "metadata": {},
   "outputs": [
    {
     "data": {
      "text/html": [
       "<div>\n",
       "<style scoped>\n",
       "    .dataframe tbody tr th:only-of-type {\n",
       "        vertical-align: middle;\n",
       "    }\n",
       "\n",
       "    .dataframe tbody tr th {\n",
       "        vertical-align: top;\n",
       "    }\n",
       "\n",
       "    .dataframe thead th {\n",
       "        text-align: right;\n",
       "    }\n",
       "</style>\n",
       "<table border=\"1\" class=\"dataframe\">\n",
       "  <thead>\n",
       "    <tr style=\"text-align: right;\">\n",
       "      <th></th>\n",
       "      <th>id_tipo_linha</th>\n",
       "      <th>cd_tipo_linha</th>\n",
       "      <th>ds_tipo_linha</th>\n",
       "      <th>ds_natureza_tipo_linha</th>\n",
       "      <th>ds_servico_tipo_linha</th>\n",
       "    </tr>\n",
       "  </thead>\n",
       "  <tbody>\n",
       "    <tr>\n",
       "      <th>0</th>\n",
       "      <td>1</td>\n",
       "      <td>N</td>\n",
       "      <td>DOMÉSTICA MISTA</td>\n",
       "      <td>DOMÉSTICA</td>\n",
       "      <td>PASSAGEIRO</td>\n",
       "    </tr>\n",
       "    <tr>\n",
       "      <th>1</th>\n",
       "      <td>2</td>\n",
       "      <td>C</td>\n",
       "      <td>DOMÉSTICA CARGUEIRA</td>\n",
       "      <td>DOMÉSTICA</td>\n",
       "      <td>CARGUEIRO</td>\n",
       "    </tr>\n",
       "    <tr>\n",
       "      <th>2</th>\n",
       "      <td>3</td>\n",
       "      <td>I</td>\n",
       "      <td>INTERNACIONAL MISTA</td>\n",
       "      <td>INTERNACIONAL</td>\n",
       "      <td>PASSAGEIRO</td>\n",
       "    </tr>\n",
       "    <tr>\n",
       "      <th>3</th>\n",
       "      <td>4</td>\n",
       "      <td>G</td>\n",
       "      <td>INTERNACIONAL CARGUEIRA</td>\n",
       "      <td>INTERNACIONAL</td>\n",
       "      <td>CARGUEIRO</td>\n",
       "    </tr>\n",
       "  </tbody>\n",
       "</table>\n",
       "</div>"
      ],
      "text/plain": [
       "   id_tipo_linha cd_tipo_linha            ds_tipo_linha  \\\n",
       "0              1             N          DOMÉSTICA MISTA   \n",
       "1              2             C      DOMÉSTICA CARGUEIRA   \n",
       "2              3             I      INTERNACIONAL MISTA   \n",
       "3              4             G  INTERNACIONAL CARGUEIRA   \n",
       "\n",
       "  ds_natureza_tipo_linha ds_servico_tipo_linha  \n",
       "0              DOMÉSTICA            PASSAGEIRO  \n",
       "1              DOMÉSTICA             CARGUEIRO  \n",
       "2          INTERNACIONAL            PASSAGEIRO  \n",
       "3          INTERNACIONAL             CARGUEIRO  "
      ]
     },
     "execution_count": 172,
     "metadata": {},
     "output_type": "execute_result"
    }
   ],
   "source": [
    "line.head()"
   ]
  },
  {
   "cell_type": "markdown",
   "metadata": {},
   "source": []
  },
  {
   "cell_type": "markdown",
   "metadata": {},
   "source": [
    "nothing to do here"
   ]
  },
  {
   "cell_type": "markdown",
   "metadata": {},
   "source": [
    "## Company Analysis"
   ]
  },
  {
   "cell_type": "code",
   "execution_count": 173,
   "metadata": {},
   "outputs": [
    {
     "data": {
      "text/html": [
       "<div>\n",
       "<style scoped>\n",
       "    .dataframe tbody tr th:only-of-type {\n",
       "        vertical-align: middle;\n",
       "    }\n",
       "\n",
       "    .dataframe tbody tr th {\n",
       "        vertical-align: top;\n",
       "    }\n",
       "\n",
       "    .dataframe thead th {\n",
       "        text-align: right;\n",
       "    }\n",
       "</style>\n",
       "<table border=\"1\" class=\"dataframe\">\n",
       "  <thead>\n",
       "    <tr style=\"text-align: right;\">\n",
       "      <th></th>\n",
       "      <th>id_empresa</th>\n",
       "      <th>sg_empresa_icao</th>\n",
       "      <th>sg_empresa_iata</th>\n",
       "      <th>nm_empresa</th>\n",
       "      <th>ds_tipo_empresa</th>\n",
       "    </tr>\n",
       "  </thead>\n",
       "  <tbody>\n",
       "    <tr>\n",
       "      <th>0</th>\n",
       "      <td>1000004</td>\n",
       "      <td>MWM</td>\n",
       "      <td>WD</td>\n",
       "      <td>MODERN TRANSPORTE AÉREO DE CARGA S.A.</td>\n",
       "      <td>TRANSPORTE AÉREO REGULAR</td>\n",
       "    </tr>\n",
       "    <tr>\n",
       "      <th>1</th>\n",
       "      <td>1000078</td>\n",
       "      <td>CNT</td>\n",
       "      <td>6C</td>\n",
       "      <td>CONNECT LINHAS AÉREAS S.A. (ANTIGA CONNECT TÁX...</td>\n",
       "      <td>TRANSPORTE AÉREO NÃO REGULAR</td>\n",
       "    </tr>\n",
       "    <tr>\n",
       "      <th>2</th>\n",
       "      <td>1000641</td>\n",
       "      <td>LTG</td>\n",
       "      <td>M3</td>\n",
       "      <td>ABSA - AEROLINHAS BRASILEIRAS S.A.</td>\n",
       "      <td>TRANSPORTE AÉREO REGULAR</td>\n",
       "    </tr>\n",
       "    <tr>\n",
       "      <th>3</th>\n",
       "      <td>1000687</td>\n",
       "      <td>OWT</td>\n",
       "      <td>2F</td>\n",
       "      <td>TWO TÁXI AÉREO LTDA.</td>\n",
       "      <td>AEROLEVANTAMENTO, AEROPUBLICIDADE, LIGAÇÃO AÉR...</td>\n",
       "    </tr>\n",
       "    <tr>\n",
       "      <th>4</th>\n",
       "      <td>1000711</td>\n",
       "      <td>OMI</td>\n",
       "      <td>O1</td>\n",
       "      <td>OMNI TÁXI AÉREO S.A.</td>\n",
       "      <td>AEROFOTOGRAFIA, AEROINSPEÇÃO, SERVIÇOS AÉREOS ...</td>\n",
       "    </tr>\n",
       "  </tbody>\n",
       "</table>\n",
       "</div>"
      ],
      "text/plain": [
       "   id_empresa sg_empresa_icao sg_empresa_iata  \\\n",
       "0     1000004             MWM              WD   \n",
       "1     1000078             CNT              6C   \n",
       "2     1000641             LTG              M3   \n",
       "3     1000687             OWT              2F   \n",
       "4     1000711             OMI              O1   \n",
       "\n",
       "                                          nm_empresa  \\\n",
       "0              MODERN TRANSPORTE AÉREO DE CARGA S.A.   \n",
       "1  CONNECT LINHAS AÉREAS S.A. (ANTIGA CONNECT TÁX...   \n",
       "2                 ABSA - AEROLINHAS BRASILEIRAS S.A.   \n",
       "3                               TWO TÁXI AÉREO LTDA.   \n",
       "4                               OMNI TÁXI AÉREO S.A.   \n",
       "\n",
       "                                     ds_tipo_empresa  \n",
       "0                           TRANSPORTE AÉREO REGULAR  \n",
       "1                       TRANSPORTE AÉREO NÃO REGULAR  \n",
       "2                           TRANSPORTE AÉREO REGULAR  \n",
       "3  AEROLEVANTAMENTO, AEROPUBLICIDADE, LIGAÇÃO AÉR...  \n",
       "4  AEROFOTOGRAFIA, AEROINSPEÇÃO, SERVIÇOS AÉREOS ...  "
      ]
     },
     "execution_count": 173,
     "metadata": {},
     "output_type": "execute_result"
    }
   ],
   "source": [
    "company.head()"
   ]
  },
  {
   "cell_type": "code",
   "execution_count": 181,
   "metadata": {},
   "outputs": [
    {
     "data": {
      "text/plain": [
       "array(['WD', '6C', 'M3', '2F', 'O1', 'L1', '0S', 'G3', '0A', 'AD', '7M',\n",
       "       'JJ', '2Z'], dtype=object)"
      ]
     },
     "execution_count": 181,
     "metadata": {},
     "output_type": "execute_result"
    }
   ],
   "source": [
    "company.sg_empresa_iata.unique()"
   ]
  },
  {
   "cell_type": "code",
   "execution_count": 174,
   "metadata": {},
   "outputs": [
    {
     "data": {
      "text/plain": [
       "ds_tipo_empresa\n",
       "TRANSPORTE AÉREO REGULAR                                                                                      8\n",
       "TRANSPORTE AÉREO NÃO REGULAR                                                                                  1\n",
       "AEROLEVANTAMENTO, AEROPUBLICIDADE, LIGAÇÃO AÉREA SISTEMÁTICA REGULAR, TÁXI-AÉREO, TRANSPORTE AÉREO REGULAR    1\n",
       "AEROFOTOGRAFIA, AEROINSPEÇÃO, SERVIÇOS AÉREOS PÚBLICOS, TÁXI-AÉREO, TRANSPORTE AÉREO NÃO REGULAR              1\n",
       "TRANSPORTE AÉREO NÃO REGULAR, TRANSPORTE AÉREO REGULAR                                                        1\n",
       "SERVIÇOS AÉREOS PÚBLICOS, TRANSPORTE AÉREO REGULAR                                                            1\n",
       "Name: count, dtype: int64"
      ]
     },
     "execution_count": 174,
     "metadata": {},
     "output_type": "execute_result"
    }
   ],
   "source": [
    "company.ds_tipo_empresa.value_counts(sort=True)"
   ]
  },
  {
   "cell_type": "markdown",
   "metadata": {},
   "source": [
    "ok, nothing to say here"
   ]
  },
  {
   "cell_type": "markdown",
   "metadata": {},
   "source": [
    "## Equipement Analysis"
   ]
  },
  {
   "cell_type": "code",
   "execution_count": 178,
   "metadata": {},
   "outputs": [
    {
     "data": {
      "text/html": [
       "<div>\n",
       "<style scoped>\n",
       "    .dataframe tbody tr th:only-of-type {\n",
       "        vertical-align: middle;\n",
       "    }\n",
       "\n",
       "    .dataframe tbody tr th {\n",
       "        vertical-align: top;\n",
       "    }\n",
       "\n",
       "    .dataframe thead th {\n",
       "        text-align: right;\n",
       "    }\n",
       "</style>\n",
       "<table border=\"1\" class=\"dataframe\">\n",
       "  <thead>\n",
       "    <tr style=\"text-align: right;\">\n",
       "      <th></th>\n",
       "      <th>id_equipamento</th>\n",
       "      <th>sg_equipamento_icao</th>\n",
       "      <th>ds_modelo</th>\n",
       "    </tr>\n",
       "  </thead>\n",
       "  <tbody>\n",
       "    <tr>\n",
       "      <th>0</th>\n",
       "      <td>14</td>\n",
       "      <td>A319</td>\n",
       "      <td>AIRBUS A319</td>\n",
       "    </tr>\n",
       "    <tr>\n",
       "      <th>1</th>\n",
       "      <td>15</td>\n",
       "      <td>A320</td>\n",
       "      <td>AIRBUS A320-100/200</td>\n",
       "    </tr>\n",
       "    <tr>\n",
       "      <th>2</th>\n",
       "      <td>16</td>\n",
       "      <td>A321</td>\n",
       "      <td>AIRBUS A321-100/200</td>\n",
       "    </tr>\n",
       "    <tr>\n",
       "      <th>3</th>\n",
       "      <td>19</td>\n",
       "      <td>A332</td>\n",
       "      <td>AIRBUS A330-200</td>\n",
       "    </tr>\n",
       "    <tr>\n",
       "      <th>4</th>\n",
       "      <td>26</td>\n",
       "      <td>A359</td>\n",
       "      <td>AIRBUS A350-900</td>\n",
       "    </tr>\n",
       "    <tr>\n",
       "      <th>5</th>\n",
       "      <td>65</td>\n",
       "      <td>AT43</td>\n",
       "      <td>AEROSPATIALE/ALENIA ATR 42-300 / 320</td>\n",
       "    </tr>\n",
       "    <tr>\n",
       "      <th>6</th>\n",
       "      <td>67</td>\n",
       "      <td>AT45</td>\n",
       "      <td>AEROSPATIALE/ALENIA ATR 42-500</td>\n",
       "    </tr>\n",
       "    <tr>\n",
       "      <th>7</th>\n",
       "      <td>69</td>\n",
       "      <td>AT72</td>\n",
       "      <td>AEROSPATIALE/ALENIA ATR 72 201/202</td>\n",
       "    </tr>\n",
       "    <tr>\n",
       "      <th>8</th>\n",
       "      <td>93</td>\n",
       "      <td>B722</td>\n",
       "      <td>BOEING 727-200</td>\n",
       "    </tr>\n",
       "    <tr>\n",
       "      <th>9</th>\n",
       "      <td>96</td>\n",
       "      <td>B733</td>\n",
       "      <td>BOEING 737-300</td>\n",
       "    </tr>\n",
       "    <tr>\n",
       "      <th>10</th>\n",
       "      <td>97</td>\n",
       "      <td>B734</td>\n",
       "      <td>BOEING 737-400</td>\n",
       "    </tr>\n",
       "    <tr>\n",
       "      <th>11</th>\n",
       "      <td>100</td>\n",
       "      <td>B737</td>\n",
       "      <td>BOEING 737-700</td>\n",
       "    </tr>\n",
       "    <tr>\n",
       "      <th>12</th>\n",
       "      <td>101</td>\n",
       "      <td>B738</td>\n",
       "      <td>BOEING 737-800</td>\n",
       "    </tr>\n",
       "    <tr>\n",
       "      <th>13</th>\n",
       "      <td>113</td>\n",
       "      <td>B763</td>\n",
       "      <td>BOEING 767-300</td>\n",
       "    </tr>\n",
       "    <tr>\n",
       "      <th>14</th>\n",
       "      <td>121</td>\n",
       "      <td>B77W</td>\n",
       "      <td>BOEING 777-300ER PAX</td>\n",
       "    </tr>\n",
       "    <tr>\n",
       "      <th>15</th>\n",
       "      <td>174</td>\n",
       "      <td>C208</td>\n",
       "      <td>CESSNA 208 CARAVAN</td>\n",
       "    </tr>\n",
       "    <tr>\n",
       "      <th>16</th>\n",
       "      <td>271</td>\n",
       "      <td>E190</td>\n",
       "      <td>EMBRAER 190/ERJ-190-100</td>\n",
       "    </tr>\n",
       "    <tr>\n",
       "      <th>17</th>\n",
       "      <td>272</td>\n",
       "      <td>E195</td>\n",
       "      <td>EMBRAER 195/ERJ-190-200</td>\n",
       "    </tr>\n",
       "    <tr>\n",
       "      <th>18</th>\n",
       "      <td>505</td>\n",
       "      <td>B38M</td>\n",
       "      <td>BOEING 737 MAX 8</td>\n",
       "    </tr>\n",
       "    <tr>\n",
       "      <th>19</th>\n",
       "      <td>509</td>\n",
       "      <td>A21N</td>\n",
       "      <td>AIRBUS A321NEO</td>\n",
       "    </tr>\n",
       "    <tr>\n",
       "      <th>20</th>\n",
       "      <td>512</td>\n",
       "      <td>A339</td>\n",
       "      <td>AIRBUS A330-900NEO</td>\n",
       "    </tr>\n",
       "    <tr>\n",
       "      <th>21</th>\n",
       "      <td>578</td>\n",
       "      <td>E295</td>\n",
       "      <td>EMBRAER E195-E2/ERJ-190-400</td>\n",
       "    </tr>\n",
       "  </tbody>\n",
       "</table>\n",
       "</div>"
      ],
      "text/plain": [
       "    id_equipamento sg_equipamento_icao                             ds_modelo\n",
       "0               14                A319                           AIRBUS A319\n",
       "1               15                A320                   AIRBUS A320-100/200\n",
       "2               16                A321                   AIRBUS A321-100/200\n",
       "3               19                A332                       AIRBUS A330-200\n",
       "4               26                A359                       AIRBUS A350-900\n",
       "5               65                AT43  AEROSPATIALE/ALENIA ATR 42-300 / 320\n",
       "6               67                AT45        AEROSPATIALE/ALENIA ATR 42-500\n",
       "7               69                AT72    AEROSPATIALE/ALENIA ATR 72 201/202\n",
       "8               93                B722                        BOEING 727-200\n",
       "9               96                B733                        BOEING 737-300\n",
       "10              97                B734                        BOEING 737-400\n",
       "11             100                B737                        BOEING 737-700\n",
       "12             101                B738                        BOEING 737-800\n",
       "13             113                B763                        BOEING 767-300\n",
       "14             121                B77W                  BOEING 777-300ER PAX\n",
       "15             174                C208                    CESSNA 208 CARAVAN\n",
       "16             271                E190               EMBRAER 190/ERJ-190-100\n",
       "17             272                E195               EMBRAER 195/ERJ-190-200\n",
       "18             505                B38M                      BOEING 737 MAX 8\n",
       "19             509                A21N                        AIRBUS A321NEO\n",
       "20             512                A339                    AIRBUS A330-900NEO\n",
       "21             578                E295           EMBRAER E195-E2/ERJ-190-400"
      ]
     },
     "execution_count": 178,
     "metadata": {},
     "output_type": "execute_result"
    }
   ],
   "source": [
    "equip.head(50)"
   ]
  },
  {
   "cell_type": "code",
   "execution_count": null,
   "metadata": {},
   "outputs": [],
   "source": [
    "equip.sg"
   ]
  },
  {
   "cell_type": "code",
   "execution_count": 176,
   "metadata": {},
   "outputs": [
    {
     "data": {
      "text/plain": [
       "sg_equipamento_icao\n",
       "A319    1\n",
       "A320    1\n",
       "A339    1\n",
       "A21N    1\n",
       "B38M    1\n",
       "E195    1\n",
       "E190    1\n",
       "C208    1\n",
       "B77W    1\n",
       "B763    1\n",
       "B738    1\n",
       "B737    1\n",
       "B734    1\n",
       "B733    1\n",
       "B722    1\n",
       "AT72    1\n",
       "AT45    1\n",
       "AT43    1\n",
       "A359    1\n",
       "A332    1\n",
       "A321    1\n",
       "E295    1\n",
       "Name: count, dtype: int64"
      ]
     },
     "execution_count": 176,
     "metadata": {},
     "output_type": "execute_result"
    }
   ],
   "source": [
    "equip.sg_equipamento_icao.value_counts(sort=True)"
   ]
  },
  {
   "cell_type": "markdown",
   "metadata": {},
   "source": [
    "perfect, nothing to say here too. Now I'm going to save the modified versions of flights and Airports"
   ]
  },
  {
   "cell_type": "markdown",
   "metadata": {},
   "source": [
    "## Save Data"
   ]
  },
  {
   "cell_type": "code",
   "execution_count": 177,
   "metadata": {},
   "outputs": [],
   "source": [
    "# save the data\n",
    "merged.to_csv('dataset/final_data/airports.csv', index=False)\n",
    "flights.to_csv('dataset/final_data/flights.csv', index=False)"
   ]
  },
  {
   "cell_type": "markdown",
   "metadata": {},
   "source": [
    "> remember that the line, company and destination table are correct (the ones in the folder processed_data)"
   ]
  }
 ],
 "metadata": {
  "kernelspec": {
   "display_name": "base",
   "language": "python",
   "name": "python3"
  },
  "language_info": {
   "codemirror_mode": {
    "name": "ipython",
    "version": 3
   },
   "file_extension": ".py",
   "mimetype": "text/x-python",
   "name": "python",
   "nbconvert_exporter": "python",
   "pygments_lexer": "ipython3",
   "version": "3.11.5"
  }
 },
 "nbformat": 4,
 "nbformat_minor": 2
}
