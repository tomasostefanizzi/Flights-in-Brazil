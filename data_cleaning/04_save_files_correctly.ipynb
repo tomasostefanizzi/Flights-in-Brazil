{
 "cells": [
  {
   "cell_type": "markdown",
   "metadata": {},
   "source": [
    "# Final Data Inspection\n",
    "Author(s): Tomaso Stefanizzi\n",
    "\n",
    "Description:\n",
    "In this notebook I'm just setting the csv to have the a different separation character"
   ]
  },
  {
   "cell_type": "code",
   "execution_count": 1,
   "metadata": {},
   "outputs": [],
   "source": [
    "import pandas as pd"
   ]
  },
  {
   "cell_type": "markdown",
   "metadata": {},
   "source": [
    "#### read files"
   ]
  },
  {
   "cell_type": "code",
   "execution_count": 5,
   "metadata": {},
   "outputs": [],
   "source": [
    "airport_path = 'dataset/final_data/airports.csv'\n",
    "airline_path = 'dataset/processed_data/company.csv'\n",
    "route_path = 'dataset/processed_data/line.csv'\n",
    "flight_path = 'dataset/final_data/flights.csv'\n",
    "equipment_path = 'dataset/processed_data/equipment.csv'"
   ]
  },
  {
   "cell_type": "code",
   "execution_count": 6,
   "metadata": {},
   "outputs": [],
   "source": [
    "airport = pd.read_csv(airport_path)\n",
    "airline = pd.read_csv(airline_path)\n",
    "route = pd.read_csv(route_path)\n",
    "flight = pd.read_csv(flight_path)\n",
    "equipment = pd.read_csv(equipment_path)"
   ]
  },
  {
   "cell_type": "code",
   "execution_count": 7,
   "metadata": {},
   "outputs": [],
   "source": [
    "flight.drop(columns=['nr_linha'], inplace=True)"
   ]
  },
  {
   "cell_type": "code",
   "execution_count": 8,
   "metadata": {},
   "outputs": [],
   "source": [
    "# save to csv with separator ;\n",
    "airport.to_csv('dataset/final_data/airports.csv', sep=';', index=False)\n",
    "airline.to_csv('dataset/final_data/company.csv', sep=';', index=False)\n",
    "route.to_csv('dataset/final_data/line.csv', sep=';', index=False)\n",
    "flight.to_csv('dataset/final_data/flights.csv', sep=';', index=False)\n",
    "equipment.to_csv('dataset/final_data/equipment.csv', sep=';', index=False)\n"
   ]
  }
 ],
 "metadata": {
  "kernelspec": {
   "display_name": "base",
   "language": "python",
   "name": "python3"
  },
  "language_info": {
   "codemirror_mode": {
    "name": "ipython",
    "version": 3
   },
   "file_extension": ".py",
   "mimetype": "text/x-python",
   "name": "python",
   "nbconvert_exporter": "python",
   "pygments_lexer": "ipython3",
   "version": "3.11.5"
  }
 },
 "nbformat": 4,
 "nbformat_minor": 2
}
