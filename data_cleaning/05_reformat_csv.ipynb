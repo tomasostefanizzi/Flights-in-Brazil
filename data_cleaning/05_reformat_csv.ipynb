{
 "cells": [
  {
   "cell_type": "markdown",
   "metadata": {},
   "source": [
    "# Fix CSV formatting\n",
    "*   Author(s): Tomaso Stefanizzi\n",
    "*   Description: This notebook aims to find a workaround to the file export from DBeaver."
   ]
  },
  {
   "cell_type": "markdown",
   "metadata": {},
   "source": [
    "## Imports"
   ]
  },
  {
   "cell_type": "code",
   "execution_count": 1,
   "metadata": {},
   "outputs": [],
   "source": [
    "import json\n",
    "import csv\n",
    "import pandas as pd\n",
    "import numpy as np"
   ]
  },
  {
   "cell_type": "markdown",
   "metadata": {},
   "source": [
    "open the JSON output from DBeaver"
   ]
  },
  {
   "cell_type": "code",
   "execution_count": 2,
   "metadata": {},
   "outputs": [],
   "source": [
    "#read the json file\n",
    "with open('/dataset/jj.json') as f:\n",
    "    data = json.load(f)"
   ]
  },
  {
   "cell_type": "markdown",
   "metadata": {},
   "source": [
    "open the csv output from DBeaver"
   ]
  },
  {
   "cell_type": "code",
   "execution_count": 3,
   "metadata": {},
   "outputs": [
    {
     "name": "stdout",
     "output_type": "stream",
     "text": [
      "367029\n"
     ]
    }
   ],
   "source": [
    "with open('/dataset/output.csv') as f:\n",
    "    data1 = f.read()\n",
    "    print(data1.count('\"\\n'))"
   ]
  },
  {
   "cell_type": "markdown",
   "metadata": {},
   "source": [
    "### Remove the \\r from the JSON"
   ]
  },
  {
   "cell_type": "code",
   "execution_count": 4,
   "metadata": {},
   "outputs": [
    {
     "name": "stdout",
     "output_type": "stream",
     "text": [
      "{'id_basica': 20210534, 'id_empresa': 1000004, 'id_tipo_linha': 2, 'hr_partida_real': '13:21:00', 'dt_partida_real': '2020-01-07 00:00:00', 'nr_semana_partida_real': 2, 'id_aerodromo_origem': 588, 'hr_chegada_real': '14:31:00', 'dt_chegada_real': '2020-01-07 00:00:00', 'nr_semana_chegada_real': 2, 'id_equipamento': 96, 'ds_matricula': 'YBC', 'id_aerodromo_destino': 693, 'lt_combustivel': 3430, 'nr_assentos_ofertados': 0, 'kg_payload': 18097, 'km_distancia': 534, 'nr_horas_voadas': 1.16667, 'nr_velocidade_media': 457.34, 'sg_empresa_icao': 'MWM', 'sg_empresa_iata': 'WD', 'nm_empresa': 'MODERN TRANSPORTE AÉREO DE CARGA S.A.', 'ds_tipo_empresa': 'TRANSPORTE AÉREO REGULAR\\r', 'cd_tipo_linha': 'C', 'ds_tipo_linha': 'DOMÉSTICA CARGUEIRA', 'ds_natureza_tipo_linha': 'DOMÉSTICA', 'ds_servico_tipo_linha': 'CARGUEIRO\\r', 'sg_equipamento_icao': 'B733', 'ds_modelo': 'BOEING 737-300\\r', 'icao_airport_destino': 'SBCT', 'iata_airport_destino': 'CWB', 'nm_aerodromo_destino': 'AFONSO PENA', 'nm_municipio_destino': 'SÃO JOSÉ DOS PINHAIS', 'nm_pais_destino': 'BRASIL', 'nm_continente_destino': 'AMÉRICA DO SUL\\r', 'icao_airport_origem': 'SBPA', 'iata_airport_origem': 'POA', 'nm_aerodromo_origem': 'SALGADO FILHO', 'nm_municipio_origem': 'PORTO ALEGRE', 'nm_pais_origem': 'BRASIL', 'nm_continente_origem': 'AMÉRICA DO SUL\\r'}\n",
      "{'id_basica': 20210535, 'id_empresa': 1000004, 'id_tipo_linha': 2, 'hr_partida_real': '13:58:00', 'dt_partida_real': '2020-01-03 00:00:00', 'nr_semana_partida_real': 1, 'id_aerodromo_origem': 162, 'hr_chegada_real': '18:02:00', 'dt_chegada_real': '2020-01-03 00:00:00', 'nr_semana_chegada_real': 1, 'id_equipamento': 97, 'ds_matricula': 'YBA', 'id_aerodromo_destino': 438, 'lt_combustivel': 12421, 'nr_assentos_ofertados': 0, 'kg_payload': 20045, 'km_distancia': 2620, 'nr_horas_voadas': 4.06667, 'nr_velocidade_media': 644.21, 'sg_empresa_icao': 'MWM', 'sg_empresa_iata': 'WD', 'nm_empresa': 'MODERN TRANSPORTE AÉREO DE CARGA S.A.', 'ds_tipo_empresa': 'TRANSPORTE AÉREO REGULAR\\r', 'cd_tipo_linha': 'C', 'ds_tipo_linha': 'DOMÉSTICA CARGUEIRA', 'ds_natureza_tipo_linha': 'DOMÉSTICA', 'ds_servico_tipo_linha': 'CARGUEIRO\\r', 'sg_equipamento_icao': 'B734', 'ds_modelo': 'BOEING 737-400\\r', 'icao_airport_destino': 'SBEG', 'iata_airport_destino': 'MAO', 'nm_aerodromo_destino': 'EDUARDO GOMES', 'nm_municipio_destino': 'MANAUS', 'nm_pais_destino': 'BRASIL', 'nm_continente_destino': 'AMÉRICA DO SUL\\r', 'icao_airport_origem': 'SBKP', 'iata_airport_origem': 'VCP', 'nm_aerodromo_origem': 'VIRACOPOS', 'nm_municipio_origem': 'CAMPINAS', 'nm_pais_origem': 'BRASIL', 'nm_continente_origem': 'AMÉRICA DO SUL\\r'}\n",
      "{'id_basica': 20210536, 'id_empresa': 1000004, 'id_tipo_linha': 2, 'hr_partida_real': '22:52:00', 'dt_partida_real': '2020-01-14 00:00:00', 'nr_semana_partida_real': 3, 'id_aerodromo_origem': 162, 'hr_chegada_real': '02:35:00', 'dt_chegada_real': '2020-01-15 00:00:00', 'nr_semana_chegada_real': 3, 'id_equipamento': 96, 'ds_matricula': 'YBC', 'id_aerodromo_destino': 438, 'lt_combustivel': 10656, 'nr_assentos_ofertados': 0, 'kg_payload': 18097, 'km_distancia': 2620, 'nr_horas_voadas': 3.71667, 'nr_velocidade_media': 704.87, 'sg_empresa_icao': 'MWM', 'sg_empresa_iata': 'WD', 'nm_empresa': 'MODERN TRANSPORTE AÉREO DE CARGA S.A.', 'ds_tipo_empresa': 'TRANSPORTE AÉREO REGULAR\\r', 'cd_tipo_linha': 'C', 'ds_tipo_linha': 'DOMÉSTICA CARGUEIRA', 'ds_natureza_tipo_linha': 'DOMÉSTICA', 'ds_servico_tipo_linha': 'CARGUEIRO\\r', 'sg_equipamento_icao': 'B733', 'ds_modelo': 'BOEING 737-300\\r', 'icao_airport_destino': 'SBEG', 'iata_airport_destino': 'MAO', 'nm_aerodromo_destino': 'EDUARDO GOMES', 'nm_municipio_destino': 'MANAUS', 'nm_pais_destino': 'BRASIL', 'nm_continente_destino': 'AMÉRICA DO SUL\\r', 'icao_airport_origem': 'SBKP', 'iata_airport_origem': 'VCP', 'nm_aerodromo_origem': 'VIRACOPOS', 'nm_municipio_origem': 'CAMPINAS', 'nm_pais_origem': 'BRASIL', 'nm_continente_origem': 'AMÉRICA DO SUL\\r'}\n",
      "{'id_basica': 20210534, 'id_empresa': 1000004, 'id_tipo_linha': 2, 'hr_partida_real': '13:21:00', 'dt_partida_real': '2020-01-07 00:00:00', 'nr_semana_partida_real': 2, 'id_aerodromo_origem': 588, 'hr_chegada_real': '14:31:00', 'dt_chegada_real': '2020-01-07 00:00:00', 'nr_semana_chegada_real': 2, 'id_equipamento': 96, 'ds_matricula': 'YBC', 'id_aerodromo_destino': 693, 'lt_combustivel': 3430, 'nr_assentos_ofertados': 0, 'kg_payload': 18097, 'km_distancia': 534, 'nr_horas_voadas': 1.16667, 'nr_velocidade_media': 457.34, 'sg_empresa_icao': 'MWM', 'sg_empresa_iata': 'WD', 'nm_empresa': 'MODERN TRANSPORTE AÉREO DE CARGA S.A.', 'ds_tipo_empresa': 'TRANSPORTE AÉREO REGULAR', 'cd_tipo_linha': 'C', 'ds_tipo_linha': 'DOMÉSTICA CARGUEIRA', 'ds_natureza_tipo_linha': 'DOMÉSTICA', 'ds_servico_tipo_linha': 'CARGUEIRO', 'sg_equipamento_icao': 'B733', 'ds_modelo': 'BOEING 737-300', 'icao_airport_destino': 'SBCT', 'iata_airport_destino': 'CWB', 'nm_aerodromo_destino': 'AFONSO PENA', 'nm_municipio_destino': 'SÃO JOSÉ DOS PINHAIS', 'nm_pais_destino': 'BRASIL', 'nm_continente_destino': 'AMÉRICA DO SUL', 'icao_airport_origem': 'SBPA', 'iata_airport_origem': 'POA', 'nm_aerodromo_origem': 'SALGADO FILHO', 'nm_municipio_origem': 'PORTO ALEGRE', 'nm_pais_origem': 'BRASIL', 'nm_continente_origem': 'AMÉRICA DO SUL'}\n",
      "{'id_basica': 20210535, 'id_empresa': 1000004, 'id_tipo_linha': 2, 'hr_partida_real': '13:58:00', 'dt_partida_real': '2020-01-03 00:00:00', 'nr_semana_partida_real': 1, 'id_aerodromo_origem': 162, 'hr_chegada_real': '18:02:00', 'dt_chegada_real': '2020-01-03 00:00:00', 'nr_semana_chegada_real': 1, 'id_equipamento': 97, 'ds_matricula': 'YBA', 'id_aerodromo_destino': 438, 'lt_combustivel': 12421, 'nr_assentos_ofertados': 0, 'kg_payload': 20045, 'km_distancia': 2620, 'nr_horas_voadas': 4.06667, 'nr_velocidade_media': 644.21, 'sg_empresa_icao': 'MWM', 'sg_empresa_iata': 'WD', 'nm_empresa': 'MODERN TRANSPORTE AÉREO DE CARGA S.A.', 'ds_tipo_empresa': 'TRANSPORTE AÉREO REGULAR', 'cd_tipo_linha': 'C', 'ds_tipo_linha': 'DOMÉSTICA CARGUEIRA', 'ds_natureza_tipo_linha': 'DOMÉSTICA', 'ds_servico_tipo_linha': 'CARGUEIRO', 'sg_equipamento_icao': 'B734', 'ds_modelo': 'BOEING 737-400', 'icao_airport_destino': 'SBEG', 'iata_airport_destino': 'MAO', 'nm_aerodromo_destino': 'EDUARDO GOMES', 'nm_municipio_destino': 'MANAUS', 'nm_pais_destino': 'BRASIL', 'nm_continente_destino': 'AMÉRICA DO SUL', 'icao_airport_origem': 'SBKP', 'iata_airport_origem': 'VCP', 'nm_aerodromo_origem': 'VIRACOPOS', 'nm_municipio_origem': 'CAMPINAS', 'nm_pais_origem': 'BRASIL', 'nm_continente_origem': 'AMÉRICA DO SUL'}\n",
      "{'id_basica': 20210536, 'id_empresa': 1000004, 'id_tipo_linha': 2, 'hr_partida_real': '22:52:00', 'dt_partida_real': '2020-01-14 00:00:00', 'nr_semana_partida_real': 3, 'id_aerodromo_origem': 162, 'hr_chegada_real': '02:35:00', 'dt_chegada_real': '2020-01-15 00:00:00', 'nr_semana_chegada_real': 3, 'id_equipamento': 96, 'ds_matricula': 'YBC', 'id_aerodromo_destino': 438, 'lt_combustivel': 10656, 'nr_assentos_ofertados': 0, 'kg_payload': 18097, 'km_distancia': 2620, 'nr_horas_voadas': 3.71667, 'nr_velocidade_media': 704.87, 'sg_empresa_icao': 'MWM', 'sg_empresa_iata': 'WD', 'nm_empresa': 'MODERN TRANSPORTE AÉREO DE CARGA S.A.', 'ds_tipo_empresa': 'TRANSPORTE AÉREO REGULAR', 'cd_tipo_linha': 'C', 'ds_tipo_linha': 'DOMÉSTICA CARGUEIRA', 'ds_natureza_tipo_linha': 'DOMÉSTICA', 'ds_servico_tipo_linha': 'CARGUEIRO', 'sg_equipamento_icao': 'B733', 'ds_modelo': 'BOEING 737-300', 'icao_airport_destino': 'SBEG', 'iata_airport_destino': 'MAO', 'nm_aerodromo_destino': 'EDUARDO GOMES', 'nm_municipio_destino': 'MANAUS', 'nm_pais_destino': 'BRASIL', 'nm_continente_destino': 'AMÉRICA DO SUL', 'icao_airport_origem': 'SBKP', 'iata_airport_origem': 'VCP', 'nm_aerodromo_origem': 'VIRACOPOS', 'nm_municipio_origem': 'CAMPINAS', 'nm_pais_origem': 'BRASIL', 'nm_continente_origem': 'AMÉRICA DO SUL'}\n"
     ]
    }
   ],
   "source": [
    "import json\n",
    "\n",
    "with open('/dataset/jj.json', 'r') as f:\n",
    "    data = json.load(f)\n",
    "\n",
    "results = data[list(data.keys())[0]]\n",
    "for record in results[:3]:\n",
    "    print(record)\n",
    "cleaned_results = []\n",
    "\n",
    "for record in results:\n",
    "    cleaned_record = {}\n",
    "    for key, value in record.items():\n",
    "        if isinstance(value, str):\n",
    "            cleaned_value = value.replace('\\r', '')\n",
    "            cleaned_record[key] = cleaned_value\n",
    "        else:\n",
    "            cleaned_record[key] = value\n",
    "    cleaned_results.append(cleaned_record)\n",
    "for record in cleaned_results[:3]:\n",
    "    print(record)"
   ]
  },
  {
   "cell_type": "code",
   "execution_count": 41,
   "metadata": {},
   "outputs": [
    {
     "data": {
      "text/html": [
       "<div>\n",
       "<style scoped>\n",
       "    .dataframe tbody tr th:only-of-type {\n",
       "        vertical-align: middle;\n",
       "    }\n",
       "\n",
       "    .dataframe tbody tr th {\n",
       "        vertical-align: top;\n",
       "    }\n",
       "\n",
       "    .dataframe thead th {\n",
       "        text-align: right;\n",
       "    }\n",
       "</style>\n",
       "<table border=\"1\" class=\"dataframe\">\n",
       "  <thead>\n",
       "    <tr style=\"text-align: right;\">\n",
       "      <th></th>\n",
       "      <th>id_basica</th>\n",
       "      <th>id_empresa</th>\n",
       "      <th>id_tipo_linha</th>\n",
       "      <th>hr_partida_real</th>\n",
       "      <th>dt_partida_real</th>\n",
       "      <th>nr_semana_partida_real</th>\n",
       "      <th>id_aerodromo_origem</th>\n",
       "      <th>hr_chegada_real</th>\n",
       "      <th>dt_chegada_real</th>\n",
       "      <th>nr_semana_chegada_real</th>\n",
       "      <th>...</th>\n",
       "      <th>nm_aerodromo_destino</th>\n",
       "      <th>nm_municipio_destino</th>\n",
       "      <th>nm_pais_destino</th>\n",
       "      <th>nm_continente_destino</th>\n",
       "      <th>icao_airport_origem</th>\n",
       "      <th>iata_airport_origem</th>\n",
       "      <th>nm_aerodromo_origem</th>\n",
       "      <th>nm_municipio_origem</th>\n",
       "      <th>nm_pais_origem</th>\n",
       "      <th>nm_continente_origem</th>\n",
       "    </tr>\n",
       "  </thead>\n",
       "  <tbody>\n",
       "    <tr>\n",
       "      <th>0</th>\n",
       "      <td>20210534</td>\n",
       "      <td>1000004</td>\n",
       "      <td>2</td>\n",
       "      <td>13:21:00</td>\n",
       "      <td>2020-01-07 00:00:00</td>\n",
       "      <td>2</td>\n",
       "      <td>588</td>\n",
       "      <td>14:31:00</td>\n",
       "      <td>2020-01-07 00:00:00</td>\n",
       "      <td>2</td>\n",
       "      <td>...</td>\n",
       "      <td>AFONSO PENA</td>\n",
       "      <td>SÃO JOSÉ DOS PINHAIS</td>\n",
       "      <td>BRASIL</td>\n",
       "      <td>AMÉRICA DO SUL</td>\n",
       "      <td>SBPA</td>\n",
       "      <td>POA</td>\n",
       "      <td>SALGADO FILHO</td>\n",
       "      <td>PORTO ALEGRE</td>\n",
       "      <td>BRASIL</td>\n",
       "      <td>AMÉRICA DO SUL</td>\n",
       "    </tr>\n",
       "    <tr>\n",
       "      <th>1</th>\n",
       "      <td>20210535</td>\n",
       "      <td>1000004</td>\n",
       "      <td>2</td>\n",
       "      <td>13:58:00</td>\n",
       "      <td>2020-01-03 00:00:00</td>\n",
       "      <td>1</td>\n",
       "      <td>162</td>\n",
       "      <td>18:02:00</td>\n",
       "      <td>2020-01-03 00:00:00</td>\n",
       "      <td>1</td>\n",
       "      <td>...</td>\n",
       "      <td>EDUARDO GOMES</td>\n",
       "      <td>MANAUS</td>\n",
       "      <td>BRASIL</td>\n",
       "      <td>AMÉRICA DO SUL</td>\n",
       "      <td>SBKP</td>\n",
       "      <td>VCP</td>\n",
       "      <td>VIRACOPOS</td>\n",
       "      <td>CAMPINAS</td>\n",
       "      <td>BRASIL</td>\n",
       "      <td>AMÉRICA DO SUL</td>\n",
       "    </tr>\n",
       "    <tr>\n",
       "      <th>2</th>\n",
       "      <td>20210536</td>\n",
       "      <td>1000004</td>\n",
       "      <td>2</td>\n",
       "      <td>22:52:00</td>\n",
       "      <td>2020-01-14 00:00:00</td>\n",
       "      <td>3</td>\n",
       "      <td>162</td>\n",
       "      <td>02:35:00</td>\n",
       "      <td>2020-01-15 00:00:00</td>\n",
       "      <td>3</td>\n",
       "      <td>...</td>\n",
       "      <td>EDUARDO GOMES</td>\n",
       "      <td>MANAUS</td>\n",
       "      <td>BRASIL</td>\n",
       "      <td>AMÉRICA DO SUL</td>\n",
       "      <td>SBKP</td>\n",
       "      <td>VCP</td>\n",
       "      <td>VIRACOPOS</td>\n",
       "      <td>CAMPINAS</td>\n",
       "      <td>BRASIL</td>\n",
       "      <td>AMÉRICA DO SUL</td>\n",
       "    </tr>\n",
       "    <tr>\n",
       "      <th>3</th>\n",
       "      <td>20210537</td>\n",
       "      <td>1000004</td>\n",
       "      <td>2</td>\n",
       "      <td>13:55:00</td>\n",
       "      <td>2020-01-18 00:00:00</td>\n",
       "      <td>3</td>\n",
       "      <td>162</td>\n",
       "      <td>17:37:00</td>\n",
       "      <td>2020-01-18 00:00:00</td>\n",
       "      <td>3</td>\n",
       "      <td>...</td>\n",
       "      <td>EDUARDO GOMES</td>\n",
       "      <td>MANAUS</td>\n",
       "      <td>BRASIL</td>\n",
       "      <td>AMÉRICA DO SUL</td>\n",
       "      <td>SBKP</td>\n",
       "      <td>VCP</td>\n",
       "      <td>VIRACOPOS</td>\n",
       "      <td>CAMPINAS</td>\n",
       "      <td>BRASIL</td>\n",
       "      <td>AMÉRICA DO SUL</td>\n",
       "    </tr>\n",
       "    <tr>\n",
       "      <th>4</th>\n",
       "      <td>20210538</td>\n",
       "      <td>1000004</td>\n",
       "      <td>2</td>\n",
       "      <td>21:57:00</td>\n",
       "      <td>2020-01-08 00:00:00</td>\n",
       "      <td>2</td>\n",
       "      <td>162</td>\n",
       "      <td>02:01:00</td>\n",
       "      <td>2020-01-09 00:00:00</td>\n",
       "      <td>2</td>\n",
       "      <td>...</td>\n",
       "      <td>EDUARDO GOMES</td>\n",
       "      <td>MANAUS</td>\n",
       "      <td>BRASIL</td>\n",
       "      <td>AMÉRICA DO SUL</td>\n",
       "      <td>SBKP</td>\n",
       "      <td>VCP</td>\n",
       "      <td>VIRACOPOS</td>\n",
       "      <td>CAMPINAS</td>\n",
       "      <td>BRASIL</td>\n",
       "      <td>AMÉRICA DO SUL</td>\n",
       "    </tr>\n",
       "  </tbody>\n",
       "</table>\n",
       "<p>5 rows × 41 columns</p>\n",
       "</div>"
      ],
      "text/plain": [
       "   id_basica  id_empresa  id_tipo_linha hr_partida_real      dt_partida_real  \\\n",
       "0   20210534     1000004              2        13:21:00  2020-01-07 00:00:00   \n",
       "1   20210535     1000004              2        13:58:00  2020-01-03 00:00:00   \n",
       "2   20210536     1000004              2        22:52:00  2020-01-14 00:00:00   \n",
       "3   20210537     1000004              2        13:55:00  2020-01-18 00:00:00   \n",
       "4   20210538     1000004              2        21:57:00  2020-01-08 00:00:00   \n",
       "\n",
       "   nr_semana_partida_real  id_aerodromo_origem hr_chegada_real  \\\n",
       "0                       2                  588        14:31:00   \n",
       "1                       1                  162        18:02:00   \n",
       "2                       3                  162        02:35:00   \n",
       "3                       3                  162        17:37:00   \n",
       "4                       2                  162        02:01:00   \n",
       "\n",
       "       dt_chegada_real  nr_semana_chegada_real  ...  nm_aerodromo_destino  \\\n",
       "0  2020-01-07 00:00:00                       2  ...           AFONSO PENA   \n",
       "1  2020-01-03 00:00:00                       1  ...         EDUARDO GOMES   \n",
       "2  2020-01-15 00:00:00                       3  ...         EDUARDO GOMES   \n",
       "3  2020-01-18 00:00:00                       3  ...         EDUARDO GOMES   \n",
       "4  2020-01-09 00:00:00                       2  ...         EDUARDO GOMES   \n",
       "\n",
       "   nm_municipio_destino  nm_pais_destino  nm_continente_destino  \\\n",
       "0  SÃO JOSÉ DOS PINHAIS           BRASIL         AMÉRICA DO SUL   \n",
       "1                MANAUS           BRASIL         AMÉRICA DO SUL   \n",
       "2                MANAUS           BRASIL         AMÉRICA DO SUL   \n",
       "3                MANAUS           BRASIL         AMÉRICA DO SUL   \n",
       "4                MANAUS           BRASIL         AMÉRICA DO SUL   \n",
       "\n",
       "   icao_airport_origem  iata_airport_origem  nm_aerodromo_origem  \\\n",
       "0                 SBPA                  POA        SALGADO FILHO   \n",
       "1                 SBKP                  VCP            VIRACOPOS   \n",
       "2                 SBKP                  VCP            VIRACOPOS   \n",
       "3                 SBKP                  VCP            VIRACOPOS   \n",
       "4                 SBKP                  VCP            VIRACOPOS   \n",
       "\n",
       "   nm_municipio_origem  nm_pais_origem nm_continente_origem  \n",
       "0         PORTO ALEGRE          BRASIL       AMÉRICA DO SUL  \n",
       "1             CAMPINAS          BRASIL       AMÉRICA DO SUL  \n",
       "2             CAMPINAS          BRASIL       AMÉRICA DO SUL  \n",
       "3             CAMPINAS          BRASIL       AMÉRICA DO SUL  \n",
       "4             CAMPINAS          BRASIL       AMÉRICA DO SUL  \n",
       "\n",
       "[5 rows x 41 columns]"
      ]
     },
     "execution_count": 41,
     "metadata": {},
     "output_type": "execute_result"
    }
   ],
   "source": [
    "df = pd.DataFrame(cleaned_results)\n",
    "df.head()"
   ]
  },
  {
   "cell_type": "markdown",
   "metadata": {},
   "source": [
    "## save into file"
   ]
  },
  {
   "cell_type": "code",
   "execution_count": 45,
   "metadata": {},
   "outputs": [],
   "source": [
    "df.to_csv('/dataset/final_data/full_dataset.csv', index=False, sep=';')"
   ]
  }
 ],
 "metadata": {
  "kernelspec": {
   "display_name": "base",
   "language": "python",
   "name": "python3"
  },
  "language_info": {
   "codemirror_mode": {
    "name": "ipython",
    "version": 3
   },
   "file_extension": ".py",
   "mimetype": "text/x-python",
   "name": "python",
   "nbconvert_exporter": "python",
   "pygments_lexer": "ipython3",
   "version": "3.11.5"
  }
 },
 "nbformat": 4,
 "nbformat_minor": 2
}
